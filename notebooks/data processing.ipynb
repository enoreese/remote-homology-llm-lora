{
 "cells": [
  {
   "cell_type": "code",
   "execution_count": 1,
   "id": "8b1bff41-178d-44be-a994-28ed132af382",
   "metadata": {},
   "outputs": [],
   "source": [
    "import pandas as pd\n",
    "import numpy as np"
   ]
  },
  {
   "cell_type": "markdown",
   "id": "8d6c0d86-9543-48e6-8e29-b58aff959bf8",
   "metadata": {
    "jp-MarkdownHeadingCollapsed": true
   },
   "source": [
    "## Get Data"
   ]
  },
  {
   "cell_type": "code",
   "execution_count": 2,
   "id": "2c29ac29-5e93-478f-8735-f9cbd8c712d3",
   "metadata": {},
   "outputs": [],
   "source": [
    "# !wget https://scop2.mrc-lmb.cam.ac.uk/files/scop-cla-latest.txt\n",
    "# !wget https://scop2.mrc-lmb.cam.ac.uk/files/scop-des-latest.txt\n",
    "# !wget https://scop2.mrc-lmb.cam.ac.uk/files/scop-represented-structures-latest.txt\n",
    "# !wget https://scop2.mrc-lmb.cam.ac.uk/files/scop_fa_represeq_lib_latest.fa\n",
    "# !wget https://scop2.mrc-lmb.cam.ac.uk/files/scop_sf_represeq_lib_latest.fa"
   ]
  },
  {
   "cell_type": "markdown",
   "id": "9a87d34a-d98a-486b-a7d3-4f319cb1671e",
   "metadata": {
    "jp-MarkdownHeadingCollapsed": true
   },
   "source": [
    "### SCOP domain definitions and classification."
   ]
  },
  {
   "cell_type": "code",
   "execution_count": 3,
   "id": "7d12b9d7-56c4-4332-b705-8f155b750638",
   "metadata": {},
   "outputs": [],
   "source": [
    "# FA-DOMID FA-PDBID FA-PDBREG FA-UNIID FA-UNIREG SF-DOMID SF-PDBID SF-PDBREG SF-UNIID SF-UNIREG SCOPCLA\n",
    "lines = []\n",
    "with open('scop/scop-cla-latest.txt', 'r') as r:\n",
    "    for line in r.readlines()[6:]:\n",
    "        split_lines = line.split(' ')\n",
    "        assert len(split_lines) == 11\n",
    "        lines.append({\n",
    "            \"FA-DOMID\": split_lines[0],\n",
    "            \"FA-PDBID\": split_lines[1],\n",
    "            \"FA-PDBREG\": split_lines[2],\n",
    "            \"FA-UNIID\": split_lines[3],\n",
    "            \"FA-UNIREG\": split_lines[4],\n",
    "            \"SF-DOMID\": split_lines[5],\n",
    "            \"SF-PDBID\": split_lines[6],\n",
    "            \"SF-PDBREG\": split_lines[7],\n",
    "            \"SF-UNIID\": split_lines[8],\n",
    "            \"SF-UNIREG\": split_lines[9],\n",
    "            \"SCOPCLA\": split_lines[10].strip(),\n",
    "        })\n",
    "        # break"
   ]
  },
  {
   "cell_type": "code",
   "execution_count": 4,
   "id": "4d35850b-8893-4d14-ab3b-f10d9aab8a4c",
   "metadata": {},
   "outputs": [
    {
     "data": {
      "text/plain": [
       "36900"
      ]
     },
     "execution_count": 4,
     "metadata": {},
     "output_type": "execute_result"
    }
   ],
   "source": [
    "len(lines)"
   ]
  },
  {
   "cell_type": "code",
   "execution_count": 5,
   "id": "a79fd16f-6e1d-4145-9b6b-42789fefb3bd",
   "metadata": {},
   "outputs": [
    {
     "data": {
      "text/plain": [
       "(36900, 11)"
      ]
     },
     "execution_count": 5,
     "metadata": {},
     "output_type": "execute_result"
    }
   ],
   "source": [
    "cla = pd.DataFrame(lines)\n",
    "cla.shape"
   ]
  },
  {
   "cell_type": "code",
   "execution_count": 6,
   "id": "fc7f5946-d213-4505-bd70-d9864190878a",
   "metadata": {},
   "outputs": [
    {
     "data": {
      "text/html": [
       "<div>\n",
       "<style scoped>\n",
       "    .dataframe tbody tr th:only-of-type {\n",
       "        vertical-align: middle;\n",
       "    }\n",
       "\n",
       "    .dataframe tbody tr th {\n",
       "        vertical-align: top;\n",
       "    }\n",
       "\n",
       "    .dataframe thead th {\n",
       "        text-align: right;\n",
       "    }\n",
       "</style>\n",
       "<table border=\"1\" class=\"dataframe\">\n",
       "  <thead>\n",
       "    <tr style=\"text-align: right;\">\n",
       "      <th></th>\n",
       "      <th>FA-DOMID</th>\n",
       "      <th>FA-PDBID</th>\n",
       "      <th>FA-PDBREG</th>\n",
       "      <th>FA-UNIID</th>\n",
       "      <th>FA-UNIREG</th>\n",
       "      <th>SF-DOMID</th>\n",
       "      <th>SF-PDBID</th>\n",
       "      <th>SF-PDBREG</th>\n",
       "      <th>SF-UNIID</th>\n",
       "      <th>SF-UNIREG</th>\n",
       "      <th>SCOPCLA</th>\n",
       "    </tr>\n",
       "  </thead>\n",
       "  <tbody>\n",
       "    <tr>\n",
       "      <th>0</th>\n",
       "      <td>8045703</td>\n",
       "      <td>3H8D</td>\n",
       "      <td>C:1143-1264</td>\n",
       "      <td>Q64331</td>\n",
       "      <td>1143-1264</td>\n",
       "      <td>8091604</td>\n",
       "      <td>3H8D</td>\n",
       "      <td>C:1143-1264</td>\n",
       "      <td>Q64331</td>\n",
       "      <td>1143-1264</td>\n",
       "      <td>TP=1,CL=1000003,CF=2001470,SF=3002524,FA=4004627</td>\n",
       "    </tr>\n",
       "    <tr>\n",
       "      <th>1</th>\n",
       "      <td>8094330</td>\n",
       "      <td>6J56</td>\n",
       "      <td>A:1158-1282</td>\n",
       "      <td>Q9UM54</td>\n",
       "      <td>1167-1291</td>\n",
       "      <td>8094331</td>\n",
       "      <td>6J56</td>\n",
       "      <td>A:1158-1282</td>\n",
       "      <td>Q9UM54</td>\n",
       "      <td>1167-1291</td>\n",
       "      <td>TP=1,CL=1000003,CF=2001470,SF=3002524,FA=4004627</td>\n",
       "    </tr>\n",
       "    <tr>\n",
       "      <th>2</th>\n",
       "      <td>8017835</td>\n",
       "      <td>3FKQ</td>\n",
       "      <td>A:1-116</td>\n",
       "      <td>D0VX10</td>\n",
       "      <td>1-116</td>\n",
       "      <td>8017836</td>\n",
       "      <td>3FKQ</td>\n",
       "      <td>A:1-116</td>\n",
       "      <td>D0VX10</td>\n",
       "      <td>1-116</td>\n",
       "      <td>TP=1,CL=1000002,CF=2000016,SF=3001156,FA=4003986</td>\n",
       "    </tr>\n",
       "    <tr>\n",
       "      <th>3</th>\n",
       "      <td>8021315</td>\n",
       "      <td>1XHF</td>\n",
       "      <td>A:2-122</td>\n",
       "      <td>P0A9Q1</td>\n",
       "      <td>2-122</td>\n",
       "      <td>8033695</td>\n",
       "      <td>1XHF</td>\n",
       "      <td>A:2-122</td>\n",
       "      <td>P0A9Q1</td>\n",
       "      <td>2-122</td>\n",
       "      <td>TP=1,CL=1000002,CF=2000016,SF=3001156,FA=4003632</td>\n",
       "    </tr>\n",
       "    <tr>\n",
       "      <th>4</th>\n",
       "      <td>8021787</td>\n",
       "      <td>1Y7P</td>\n",
       "      <td>B:79-215</td>\n",
       "      <td>O28869</td>\n",
       "      <td>79-215</td>\n",
       "      <td>8034167</td>\n",
       "      <td>1Y7P</td>\n",
       "      <td>B:79-215</td>\n",
       "      <td>O28869</td>\n",
       "      <td>79-215</td>\n",
       "      <td>TP=1,CL=1000002,CF=2000016,SF=3001156,FA=4002481</td>\n",
       "    </tr>\n",
       "  </tbody>\n",
       "</table>\n",
       "</div>"
      ],
      "text/plain": [
       "  FA-DOMID FA-PDBID    FA-PDBREG FA-UNIID  FA-UNIREG SF-DOMID SF-PDBID  \\\n",
       "0  8045703     3H8D  C:1143-1264   Q64331  1143-1264  8091604     3H8D   \n",
       "1  8094330     6J56  A:1158-1282   Q9UM54  1167-1291  8094331     6J56   \n",
       "2  8017835     3FKQ      A:1-116   D0VX10      1-116  8017836     3FKQ   \n",
       "3  8021315     1XHF      A:2-122   P0A9Q1      2-122  8033695     1XHF   \n",
       "4  8021787     1Y7P     B:79-215   O28869     79-215  8034167     1Y7P   \n",
       "\n",
       "     SF-PDBREG SF-UNIID  SF-UNIREG  \\\n",
       "0  C:1143-1264   Q64331  1143-1264   \n",
       "1  A:1158-1282   Q9UM54  1167-1291   \n",
       "2      A:1-116   D0VX10      1-116   \n",
       "3      A:2-122   P0A9Q1      2-122   \n",
       "4     B:79-215   O28869     79-215   \n",
       "\n",
       "                                            SCOPCLA  \n",
       "0  TP=1,CL=1000003,CF=2001470,SF=3002524,FA=4004627  \n",
       "1  TP=1,CL=1000003,CF=2001470,SF=3002524,FA=4004627  \n",
       "2  TP=1,CL=1000002,CF=2000016,SF=3001156,FA=4003986  \n",
       "3  TP=1,CL=1000002,CF=2000016,SF=3001156,FA=4003632  \n",
       "4  TP=1,CL=1000002,CF=2000016,SF=3001156,FA=4002481  "
      ]
     },
     "execution_count": 6,
     "metadata": {},
     "output_type": "execute_result"
    }
   ],
   "source": [
    "cla.head()"
   ]
  },
  {
   "cell_type": "code",
   "execution_count": 7,
   "id": "b3d9a0e2-8755-4031-81a5-5aae957ead94",
   "metadata": {},
   "outputs": [],
   "source": [
    "cla.to_csv('scop/scop-cla-latest.csv', index=None)"
   ]
  },
  {
   "cell_type": "markdown",
   "id": "11018328-d3db-4503-b838-48746ef6f0ab",
   "metadata": {
    "jp-MarkdownHeadingCollapsed": true
   },
   "source": [
    "### SCOP node descriptions."
   ]
  },
  {
   "cell_type": "code",
   "execution_count": 11,
   "id": "ddfdcb5c-9cb8-4ad6-8dbf-71a300c2ec03",
   "metadata": {},
   "outputs": [],
   "source": [
    "# NODE_ID NODE_NAME\n",
    "lines = []\n",
    "with open('scop/scop-des-latest.txt', 'r') as r:\n",
    "    for line in r.readlines()[6:]:\n",
    "        split_lines = line.split(' ')\n",
    "        lines.append({\n",
    "            \"NODE_ID\": split_lines[0],\n",
    "            \"NODE_NAME\": \" \".join(split_lines[1:]).strip(),\n",
    "        })\n",
    "        # break"
   ]
  },
  {
   "cell_type": "code",
   "execution_count": 12,
   "id": "fa4e4e24-9e93-4874-afcb-53231d4d3d8c",
   "metadata": {},
   "outputs": [
    {
     "data": {
      "text/plain": [
       "(10340,\n",
       " [{'NODE_ID': '1', 'NODE_NAME': 'Globular proteins'},\n",
       "  {'NODE_ID': '2', 'NODE_NAME': 'Membrane proteins'},\n",
       "  {'NODE_ID': '3', 'NODE_NAME': 'Fibrous proteins'}])"
      ]
     },
     "execution_count": 12,
     "metadata": {},
     "output_type": "execute_result"
    }
   ],
   "source": [
    "len(lines), lines[:3]"
   ]
  },
  {
   "cell_type": "code",
   "execution_count": 13,
   "id": "7dc038c8-7c84-4ac7-93b6-2c935c46c103",
   "metadata": {},
   "outputs": [
    {
     "data": {
      "text/plain": [
       "(10340, 2)"
      ]
     },
     "execution_count": 13,
     "metadata": {},
     "output_type": "execute_result"
    }
   ],
   "source": [
    "des = pd.DataFrame(lines)\n",
    "des.shape"
   ]
  },
  {
   "cell_type": "code",
   "execution_count": 14,
   "id": "0c042523-9761-45fc-b95a-6ac10308ee22",
   "metadata": {},
   "outputs": [
    {
     "data": {
      "text/html": [
       "<div>\n",
       "<style scoped>\n",
       "    .dataframe tbody tr th:only-of-type {\n",
       "        vertical-align: middle;\n",
       "    }\n",
       "\n",
       "    .dataframe tbody tr th {\n",
       "        vertical-align: top;\n",
       "    }\n",
       "\n",
       "    .dataframe thead th {\n",
       "        text-align: right;\n",
       "    }\n",
       "</style>\n",
       "<table border=\"1\" class=\"dataframe\">\n",
       "  <thead>\n",
       "    <tr style=\"text-align: right;\">\n",
       "      <th></th>\n",
       "      <th>NODE_ID</th>\n",
       "      <th>NODE_NAME</th>\n",
       "    </tr>\n",
       "  </thead>\n",
       "  <tbody>\n",
       "    <tr>\n",
       "      <th>0</th>\n",
       "      <td>1</td>\n",
       "      <td>Globular proteins</td>\n",
       "    </tr>\n",
       "    <tr>\n",
       "      <th>1</th>\n",
       "      <td>2</td>\n",
       "      <td>Membrane proteins</td>\n",
       "    </tr>\n",
       "    <tr>\n",
       "      <th>2</th>\n",
       "      <td>3</td>\n",
       "      <td>Fibrous proteins</td>\n",
       "    </tr>\n",
       "    <tr>\n",
       "      <th>3</th>\n",
       "      <td>4</td>\n",
       "      <td>Non-globular/Intrinsically unstructured proteins</td>\n",
       "    </tr>\n",
       "    <tr>\n",
       "      <th>4</th>\n",
       "      <td>1000000</td>\n",
       "      <td>All alpha proteins</td>\n",
       "    </tr>\n",
       "  </tbody>\n",
       "</table>\n",
       "</div>"
      ],
      "text/plain": [
       "   NODE_ID                                         NODE_NAME\n",
       "0        1                                 Globular proteins\n",
       "1        2                                 Membrane proteins\n",
       "2        3                                  Fibrous proteins\n",
       "3        4  Non-globular/Intrinsically unstructured proteins\n",
       "4  1000000                                All alpha proteins"
      ]
     },
     "execution_count": 14,
     "metadata": {},
     "output_type": "execute_result"
    }
   ],
   "source": [
    "des.head()"
   ]
  },
  {
   "cell_type": "code",
   "execution_count": 15,
   "id": "55bc7d95-b856-4a84-9746-188e45bdaaa9",
   "metadata": {},
   "outputs": [],
   "source": [
    "des.to_csv('scop/scop-des-latest.csv', index=None)"
   ]
  },
  {
   "cell_type": "markdown",
   "id": "644c85b9-9747-4a93-b440-663c44fdb339",
   "metadata": {
    "jp-MarkdownHeadingCollapsed": true
   },
   "source": [
    "### SCOP represented structures."
   ]
  },
  {
   "cell_type": "code",
   "execution_count": 18,
   "id": "7e92d970-9381-45df-9e9e-dd6108bf8f4d",
   "metadata": {},
   "outputs": [],
   "source": [
    "# DOMID REPRESENTED-PDBID REPRESENTED-PDBCHAIN\n",
    "lines = []\n",
    "with open('scop/scop-represented-structures-latest.txt', 'r') as r:\n",
    "    for line in r.readlines()[6:]:\n",
    "        split_lines = line.split(' ')\n",
    "        assert len(split_lines) == 3\n",
    "        lines.append({\n",
    "            \"DOMID\": split_lines[0],\n",
    "            \"REPRESENTED-PDBID\": split_lines[1],\n",
    "            \"REPRESENTED-PDBCHAIN\": split_lines[2].strip(),\n",
    "        })\n",
    "        # break"
   ]
  },
  {
   "cell_type": "code",
   "execution_count": 19,
   "id": "5d0ae5d9-0a3c-45e3-8291-d05de7ec83ef",
   "metadata": {},
   "outputs": [
    {
     "data": {
      "text/plain": [
       "(861539,\n",
       " [{'DOMID': '8000061',\n",
       "   'REPRESENTED-PDBID': '2DT5',\n",
       "   'REPRESENTED-PDBCHAIN': 'B'},\n",
       "  {'DOMID': '8000376',\n",
       "   'REPRESENTED-PDBID': '2FR1',\n",
       "   'REPRESENTED-PDBCHAIN': 'A'},\n",
       "  {'DOMID': '8000376',\n",
       "   'REPRESENTED-PDBID': '6W7S',\n",
       "   'REPRESENTED-PDBCHAIN': 'A'}])"
      ]
     },
     "execution_count": 19,
     "metadata": {},
     "output_type": "execute_result"
    }
   ],
   "source": [
    "len(lines), lines[:3]"
   ]
  },
  {
   "cell_type": "code",
   "execution_count": 20,
   "id": "10245e1c-983b-4eb8-825a-406298611f6a",
   "metadata": {},
   "outputs": [
    {
     "data": {
      "text/plain": [
       "(861539, 3)"
      ]
     },
     "execution_count": 20,
     "metadata": {},
     "output_type": "execute_result"
    }
   ],
   "source": [
    "rep = pd.DataFrame(lines)\n",
    "rep.shape"
   ]
  },
  {
   "cell_type": "code",
   "execution_count": 21,
   "id": "77b7b5c6-0727-45b9-b7a7-914b6b7432cf",
   "metadata": {},
   "outputs": [
    {
     "data": {
      "text/html": [
       "<div>\n",
       "<style scoped>\n",
       "    .dataframe tbody tr th:only-of-type {\n",
       "        vertical-align: middle;\n",
       "    }\n",
       "\n",
       "    .dataframe tbody tr th {\n",
       "        vertical-align: top;\n",
       "    }\n",
       "\n",
       "    .dataframe thead th {\n",
       "        text-align: right;\n",
       "    }\n",
       "</style>\n",
       "<table border=\"1\" class=\"dataframe\">\n",
       "  <thead>\n",
       "    <tr style=\"text-align: right;\">\n",
       "      <th></th>\n",
       "      <th>DOMID</th>\n",
       "      <th>REPRESENTED-PDBID</th>\n",
       "      <th>REPRESENTED-PDBCHAIN</th>\n",
       "    </tr>\n",
       "  </thead>\n",
       "  <tbody>\n",
       "    <tr>\n",
       "      <th>0</th>\n",
       "      <td>8000061</td>\n",
       "      <td>2DT5</td>\n",
       "      <td>B</td>\n",
       "    </tr>\n",
       "    <tr>\n",
       "      <th>1</th>\n",
       "      <td>8000376</td>\n",
       "      <td>2FR1</td>\n",
       "      <td>A</td>\n",
       "    </tr>\n",
       "    <tr>\n",
       "      <th>2</th>\n",
       "      <td>8000376</td>\n",
       "      <td>6W7S</td>\n",
       "      <td>A</td>\n",
       "    </tr>\n",
       "    <tr>\n",
       "      <th>3</th>\n",
       "      <td>8000376</td>\n",
       "      <td>6WH9</td>\n",
       "      <td>A</td>\n",
       "    </tr>\n",
       "    <tr>\n",
       "      <th>4</th>\n",
       "      <td>8000376</td>\n",
       "      <td>6WH9</td>\n",
       "      <td>D</td>\n",
       "    </tr>\n",
       "  </tbody>\n",
       "</table>\n",
       "</div>"
      ],
      "text/plain": [
       "     DOMID REPRESENTED-PDBID REPRESENTED-PDBCHAIN\n",
       "0  8000061              2DT5                    B\n",
       "1  8000376              2FR1                    A\n",
       "2  8000376              6W7S                    A\n",
       "3  8000376              6WH9                    A\n",
       "4  8000376              6WH9                    D"
      ]
     },
     "execution_count": 21,
     "metadata": {},
     "output_type": "execute_result"
    }
   ],
   "source": [
    "rep.head()"
   ]
  },
  {
   "cell_type": "code",
   "execution_count": 22,
   "id": "1d97f984-7018-4b76-8b97-ea8093adc766",
   "metadata": {},
   "outputs": [],
   "source": [
    "rep.to_csv('scop/scop-represented-structures-latest.csv', index=None)"
   ]
  },
  {
   "cell_type": "markdown",
   "id": "c0cf33cf-4166-4ecb-bdf5-4815e350b115",
   "metadata": {},
   "source": [
    "### SCOP sequence libraries"
   ]
  },
  {
   "cell_type": "code",
   "execution_count": 23,
   "id": "a48bc69e-0f33-455d-ba4b-af03caa1ddb4",
   "metadata": {},
   "outputs": [],
   "source": [
    "from Bio.SeqIO.FastaIO import SimpleFastaParser"
   ]
  },
  {
   "cell_type": "markdown",
   "id": "df3a04b6-ea9f-4ba4-900b-22c7bdcdee73",
   "metadata": {},
   "source": [
    "#### FA"
   ]
  },
  {
   "cell_type": "code",
   "execution_count": 29,
   "id": "dafa16fc-fe2d-43a7-9a0e-0dd8679c053e",
   "metadata": {},
   "outputs": [],
   "source": [
    "lines = []\n",
    "with open('scop/scop_fa_represeq_lib_latest.fa','r') as ffile:\n",
    "    for title, sequence in SimpleFastaParser(ffile):\n",
    "        title_split = title.split(' ')\n",
    "        lines.append({\n",
    "            \"DOMID\": title_split[0],\n",
    "            \"FA\": title_split[1].split('=')[1],\n",
    "            \"FA-PDBID\": title_split[2].split('=')[1],\n",
    "            \"FA-UNIID\": title_split[3].split('=')[1],\n",
    "            \"sequence\": sequence,\n",
    "        })\n",
    "        # break"
   ]
  },
  {
   "cell_type": "code",
   "execution_count": 30,
   "id": "e24521ae-6599-4f4b-8dd7-d2dde662f462",
   "metadata": {},
   "outputs": [
    {
     "data": {
      "text/plain": [
       "(35644,\n",
       " [{'DOMID': '8072807',\n",
       "   'FA': '4003632',\n",
       "   'FA-PDBID': '3KCN_A',\n",
       "   'FA-UNIID': 'Q7UJS6',\n",
       "   'sequence': 'NERILLVDDDYSLLNTLKRNLSFDFEVTTCESGPEALACIKKSDPFSVIMVDMRMPGMEGTEVIQKARLISPNSVYLMLTGNQDLTTAMEAVNEGQVFRFLNKPCQMSDIKAAINAGIKQYDLVTSKEELLKKT'},\n",
       "  {'DOMID': '8072797',\n",
       "   'FA': '4003632',\n",
       "   'FA-PDBID': '3HZH_A',\n",
       "   'FA-UNIID': 'O51615',\n",
       "   'sequence': 'SKPRGINYDTGIPFNVLIVDDSVFTVKQLTQIFTSEGFNIIDTAADGEEAVIKYKNHYPNIDIVTLDITMPKMDGITCLSNIMEFDKNARVIMISALGKEQLVKDCLIKGAKTFIVKPLDRAKVLQRVMSVFVK'},\n",
       "  {'DOMID': '8022848',\n",
       "   'FA': '4001912',\n",
       "   'FA-PDBID': '2OP5_A',\n",
       "   'FA-UNIID': '2OP5_A',\n",
       "   'sequence': 'TDETAFLNSLFMDFTSENELELFLKSLDEVWSEDLYSRLSAAGLIRHVISKVWNKEQHRISMVFEYDSKEGYQKCQEIIDKEFGITLKEKLKKFVFKIHNNRGVVVSEFIRS'}])"
      ]
     },
     "execution_count": 30,
     "metadata": {},
     "output_type": "execute_result"
    }
   ],
   "source": [
    "len(lines), lines[:3]"
   ]
  },
  {
   "cell_type": "code",
   "execution_count": 31,
   "id": "e807c4c5-8d47-47fe-9ebf-50a2196b5655",
   "metadata": {},
   "outputs": [
    {
     "data": {
      "text/plain": [
       "(35644, 5)"
      ]
     },
     "execution_count": 31,
     "metadata": {},
     "output_type": "execute_result"
    }
   ],
   "source": [
    "far = pd.DataFrame(lines)\n",
    "far.shape"
   ]
  },
  {
   "cell_type": "code",
   "execution_count": 32,
   "id": "5f1220cd-f298-43d7-97bf-8098d3c8cd96",
   "metadata": {},
   "outputs": [
    {
     "data": {
      "text/html": [
       "<div>\n",
       "<style scoped>\n",
       "    .dataframe tbody tr th:only-of-type {\n",
       "        vertical-align: middle;\n",
       "    }\n",
       "\n",
       "    .dataframe tbody tr th {\n",
       "        vertical-align: top;\n",
       "    }\n",
       "\n",
       "    .dataframe thead th {\n",
       "        text-align: right;\n",
       "    }\n",
       "</style>\n",
       "<table border=\"1\" class=\"dataframe\">\n",
       "  <thead>\n",
       "    <tr style=\"text-align: right;\">\n",
       "      <th></th>\n",
       "      <th>DOMID</th>\n",
       "      <th>FA</th>\n",
       "      <th>FA-PDBID</th>\n",
       "      <th>FA-UNIID</th>\n",
       "      <th>sequence</th>\n",
       "    </tr>\n",
       "  </thead>\n",
       "  <tbody>\n",
       "    <tr>\n",
       "      <th>0</th>\n",
       "      <td>8072807</td>\n",
       "      <td>4003632</td>\n",
       "      <td>3KCN_A</td>\n",
       "      <td>Q7UJS6</td>\n",
       "      <td>NERILLVDDDYSLLNTLKRNLSFDFEVTTCESGPEALACIKKSDPF...</td>\n",
       "    </tr>\n",
       "    <tr>\n",
       "      <th>1</th>\n",
       "      <td>8072797</td>\n",
       "      <td>4003632</td>\n",
       "      <td>3HZH_A</td>\n",
       "      <td>O51615</td>\n",
       "      <td>SKPRGINYDTGIPFNVLIVDDSVFTVKQLTQIFTSEGFNIIDTAAD...</td>\n",
       "    </tr>\n",
       "    <tr>\n",
       "      <th>2</th>\n",
       "      <td>8022848</td>\n",
       "      <td>4001912</td>\n",
       "      <td>2OP5_A</td>\n",
       "      <td>2OP5_A</td>\n",
       "      <td>TDETAFLNSLFMDFTSENELELFLKSLDEVWSEDLYSRLSAAGLIR...</td>\n",
       "    </tr>\n",
       "    <tr>\n",
       "      <th>3</th>\n",
       "      <td>8107333</td>\n",
       "      <td>4007725</td>\n",
       "      <td>7V9L_R</td>\n",
       "      <td>Q9HB45</td>\n",
       "      <td>FSTVKIIYTVGHSISIVALFVAITILVALRRLHCPRNYVHTQLFTT...</td>\n",
       "    </tr>\n",
       "    <tr>\n",
       "      <th>4</th>\n",
       "      <td>8097333</td>\n",
       "      <td>4000755</td>\n",
       "      <td>6DRS_A</td>\n",
       "      <td>B8NBN5</td>\n",
       "      <td>PTNPLTLIVATTPIPTREKTLLGIGLNGTLPWPRIKADMSFFARVT...</td>\n",
       "    </tr>\n",
       "  </tbody>\n",
       "</table>\n",
       "</div>"
      ],
      "text/plain": [
       "     DOMID       FA FA-PDBID FA-UNIID  \\\n",
       "0  8072807  4003632   3KCN_A   Q7UJS6   \n",
       "1  8072797  4003632   3HZH_A   O51615   \n",
       "2  8022848  4001912   2OP5_A   2OP5_A   \n",
       "3  8107333  4007725   7V9L_R   Q9HB45   \n",
       "4  8097333  4000755   6DRS_A   B8NBN5   \n",
       "\n",
       "                                            sequence  \n",
       "0  NERILLVDDDYSLLNTLKRNLSFDFEVTTCESGPEALACIKKSDPF...  \n",
       "1  SKPRGINYDTGIPFNVLIVDDSVFTVKQLTQIFTSEGFNIIDTAAD...  \n",
       "2  TDETAFLNSLFMDFTSENELELFLKSLDEVWSEDLYSRLSAAGLIR...  \n",
       "3  FSTVKIIYTVGHSISIVALFVAITILVALRRLHCPRNYVHTQLFTT...  \n",
       "4  PTNPLTLIVATTPIPTREKTLLGIGLNGTLPWPRIKADMSFFARVT...  "
      ]
     },
     "execution_count": 32,
     "metadata": {},
     "output_type": "execute_result"
    }
   ],
   "source": [
    "far.head()"
   ]
  },
  {
   "cell_type": "code",
   "execution_count": 33,
   "id": "b85bcc75-9939-4607-a25f-3e85b1b46360",
   "metadata": {},
   "outputs": [],
   "source": [
    "far.to_csv('scop/scop_fa_represeq_lib_latest.csv', index=None)"
   ]
  },
  {
   "cell_type": "markdown",
   "id": "a7258576-9b67-4ce3-9e4f-d0c050b75ccd",
   "metadata": {},
   "source": [
    "#### SF"
   ]
  },
  {
   "cell_type": "code",
   "execution_count": 34,
   "id": "9f5fdacd-1f7d-48de-ad8f-825822dbaf03",
   "metadata": {},
   "outputs": [],
   "source": [
    "lines = []\n",
    "with open('scop/scop_sf_represeq_lib_latest.fa','r') as ffile:\n",
    "    for title, sequence in SimpleFastaParser(ffile):\n",
    "        title_split = title.split(' ')\n",
    "        lines.append({\n",
    "            \"DOMID\": title_split[0],\n",
    "            \"SF\": title_split[1].split('=')[1],\n",
    "            \"SF-PDBID\": title_split[2].split('=')[1],\n",
    "            \"SF-UNIID\": title_split[3].split('=')[1],\n",
    "            \"sequence\": sequence,\n",
    "        })\n",
    "        # break"
   ]
  },
  {
   "cell_type": "code",
   "execution_count": 35,
   "id": "fc42507b-b464-49db-b46e-f64acb672598",
   "metadata": {},
   "outputs": [
    {
     "data": {
      "text/plain": [
       "(36900,\n",
       " [{'DOMID': '8107332',\n",
       "   'SF': '3002300',\n",
       "   'SF-PDBID': '7ECQ_A',\n",
       "   'SF-UNIID': 'Q9D8T0',\n",
       "   'sequence': 'KYKCGLPQPCPEEHLSFRIVSGAANVIGPKICLEDKMLMSSVKDNVGRGLNIALVNGVSGELLEARAFDMWAGDVNDLLKFIRPLHEGTLVFVASYDDPATKMNEETRKLFSELGSRNAKDLAFRDSWVFVGAKGVQNKSPFEQHMKNSKHTNKYEGWPEALEMEGCIPRRSIAG'},\n",
       "  {'DOMID': '8097332',\n",
       "   'SF': '3001746',\n",
       "   'SF-PDBID': '5ZKU_F',\n",
       "   'SF-UNIID': 'B8HDZ1',\n",
       "   'sequence': 'PSNNRYDVTEWPAGNPAKDIGEVINSIIADIKARQGAADVDDGGKPGAVIYLPPGDYHLRTQVLIDISFLRIEGSGHGFTSSSIRFNVPEEEWPDLHELWPGGSRVIVDLPAGGAGDSAAGAAFLVAREGSPRISSVEFSNFCIDGLHFTADGSGRHPENTYANGKTGIHVASANDSFRVTDMGFVYLENALTIHKADALSIHHNFIAECGSCIELRGWGQASKITDNLVGAGPRGHSIYAENHGGLLVTANNVFPRGASSVHFKGVTRSSVTNNRLHAFYPGMVRLEENSSENLVATNHFLRDHEPWTPFFGVDNGLDDLTGLLSISGNNNSVIGNHFSEVVDANEIRPEGATPVIIRLTAGTGNFVSTNHVVAMDVDAASSDSCFEAQVDALLATEAADLAVTAVLVDPGSARNTILDSGSDTQVVADRAVNAIRATPTVG'},\n",
       "  {'DOMID': '8072808',\n",
       "   'SF': '3001156',\n",
       "   'SF-PDBID': '3KCN_A',\n",
       "   'SF-UNIID': 'Q7UJS6',\n",
       "   'sequence': 'NERILLVDDDYSLLNTLKRNLSFDFEVTTCESGPEALACIKKSDPFSVIMVDMRMPGMEGTEVIQKARLISPNSVYLMLTGNQDLTTAMEAVNEGQVFRFLNKPCQMSDIKAAINAGIKQYDLVTSKEELLKKT'}])"
      ]
     },
     "execution_count": 35,
     "metadata": {},
     "output_type": "execute_result"
    }
   ],
   "source": [
    "len(lines), lines[:3]"
   ]
  },
  {
   "cell_type": "code",
   "execution_count": 36,
   "id": "ce647a40-14ae-4f82-91e0-89130e3e8146",
   "metadata": {},
   "outputs": [
    {
     "data": {
      "text/plain": [
       "(36900, 5)"
      ]
     },
     "execution_count": 36,
     "metadata": {},
     "output_type": "execute_result"
    }
   ],
   "source": [
    "sfr = pd.DataFrame(lines)\n",
    "sfr.shape"
   ]
  },
  {
   "cell_type": "code",
   "execution_count": 37,
   "id": "889728bf-cba8-441b-bf9c-09bab769175f",
   "metadata": {},
   "outputs": [
    {
     "data": {
      "text/html": [
       "<div>\n",
       "<style scoped>\n",
       "    .dataframe tbody tr th:only-of-type {\n",
       "        vertical-align: middle;\n",
       "    }\n",
       "\n",
       "    .dataframe tbody tr th {\n",
       "        vertical-align: top;\n",
       "    }\n",
       "\n",
       "    .dataframe thead th {\n",
       "        text-align: right;\n",
       "    }\n",
       "</style>\n",
       "<table border=\"1\" class=\"dataframe\">\n",
       "  <thead>\n",
       "    <tr style=\"text-align: right;\">\n",
       "      <th></th>\n",
       "      <th>DOMID</th>\n",
       "      <th>SF</th>\n",
       "      <th>SF-PDBID</th>\n",
       "      <th>SF-UNIID</th>\n",
       "      <th>sequence</th>\n",
       "    </tr>\n",
       "  </thead>\n",
       "  <tbody>\n",
       "    <tr>\n",
       "      <th>0</th>\n",
       "      <td>8107332</td>\n",
       "      <td>3002300</td>\n",
       "      <td>7ECQ_A</td>\n",
       "      <td>Q9D8T0</td>\n",
       "      <td>KYKCGLPQPCPEEHLSFRIVSGAANVIGPKICLEDKMLMSSVKDNV...</td>\n",
       "    </tr>\n",
       "    <tr>\n",
       "      <th>1</th>\n",
       "      <td>8097332</td>\n",
       "      <td>3001746</td>\n",
       "      <td>5ZKU_F</td>\n",
       "      <td>B8HDZ1</td>\n",
       "      <td>PSNNRYDVTEWPAGNPAKDIGEVINSIIADIKARQGAADVDDGGKP...</td>\n",
       "    </tr>\n",
       "    <tr>\n",
       "      <th>2</th>\n",
       "      <td>8072808</td>\n",
       "      <td>3001156</td>\n",
       "      <td>3KCN_A</td>\n",
       "      <td>Q7UJS6</td>\n",
       "      <td>NERILLVDDDYSLLNTLKRNLSFDFEVTTCESGPEALACIKKSDPF...</td>\n",
       "    </tr>\n",
       "    <tr>\n",
       "      <th>3</th>\n",
       "      <td>8072798</td>\n",
       "      <td>3001156</td>\n",
       "      <td>3HZH_A</td>\n",
       "      <td>O51615</td>\n",
       "      <td>SKPRGINYDTGIPFNVLIVDDSVFTVKQLTQIFTSEGFNIIDTAAD...</td>\n",
       "    </tr>\n",
       "    <tr>\n",
       "      <th>4</th>\n",
       "      <td>8107334</td>\n",
       "      <td>3000473</td>\n",
       "      <td>7V9L_R</td>\n",
       "      <td>Q9HB45</td>\n",
       "      <td>FSTVKIIYTVGHSISIVALFVAITILVALRRLHCPRNYVHTQLFTT...</td>\n",
       "    </tr>\n",
       "  </tbody>\n",
       "</table>\n",
       "</div>"
      ],
      "text/plain": [
       "     DOMID       SF SF-PDBID SF-UNIID  \\\n",
       "0  8107332  3002300   7ECQ_A   Q9D8T0   \n",
       "1  8097332  3001746   5ZKU_F   B8HDZ1   \n",
       "2  8072808  3001156   3KCN_A   Q7UJS6   \n",
       "3  8072798  3001156   3HZH_A   O51615   \n",
       "4  8107334  3000473   7V9L_R   Q9HB45   \n",
       "\n",
       "                                            sequence  \n",
       "0  KYKCGLPQPCPEEHLSFRIVSGAANVIGPKICLEDKMLMSSVKDNV...  \n",
       "1  PSNNRYDVTEWPAGNPAKDIGEVINSIIADIKARQGAADVDDGGKP...  \n",
       "2  NERILLVDDDYSLLNTLKRNLSFDFEVTTCESGPEALACIKKSDPF...  \n",
       "3  SKPRGINYDTGIPFNVLIVDDSVFTVKQLTQIFTSEGFNIIDTAAD...  \n",
       "4  FSTVKIIYTVGHSISIVALFVAITILVALRRLHCPRNYVHTQLFTT...  "
      ]
     },
     "execution_count": 37,
     "metadata": {},
     "output_type": "execute_result"
    }
   ],
   "source": [
    "sfr.head()"
   ]
  },
  {
   "cell_type": "code",
   "execution_count": 38,
   "id": "c3685d25-3693-43cd-be3b-8ff633f1c651",
   "metadata": {},
   "outputs": [],
   "source": [
    "sfr.to_csv('scop/scop_sf_represeq_lib_latest.csv', index=None)"
   ]
  },
  {
   "cell_type": "markdown",
   "id": "8c764422-6cca-40aa-9e8e-5533c27bf62d",
   "metadata": {
    "jp-MarkdownHeadingCollapsed": true
   },
   "source": [
    "## Process Data"
   ]
  },
  {
   "cell_type": "code",
   "execution_count": 2,
   "id": "19145125-41ff-4338-9f01-f2edc778dff8",
   "metadata": {},
   "outputs": [
    {
     "data": {
      "text/plain": [
       "(35644, 6)"
      ]
     },
     "execution_count": 2,
     "metadata": {},
     "output_type": "execute_result"
    }
   ],
   "source": [
    "cla = pd.read_csv('scop/scop-cla-latest.csv', usecols=['FA-DOMID', 'FA-PDBID', 'SF-DOMID', 'SF-PDBID', 'SF', 'FA'])\n",
    "cla.shape"
   ]
  },
  {
   "cell_type": "code",
   "execution_count": 3,
   "id": "45d65fa4-5661-4849-a769-9b8c470d34ad",
   "metadata": {},
   "outputs": [
    {
     "data": {
      "text/html": [
       "<div>\n",
       "<style scoped>\n",
       "    .dataframe tbody tr th:only-of-type {\n",
       "        vertical-align: middle;\n",
       "    }\n",
       "\n",
       "    .dataframe tbody tr th {\n",
       "        vertical-align: top;\n",
       "    }\n",
       "\n",
       "    .dataframe thead th {\n",
       "        text-align: right;\n",
       "    }\n",
       "</style>\n",
       "<table border=\"1\" class=\"dataframe\">\n",
       "  <thead>\n",
       "    <tr style=\"text-align: right;\">\n",
       "      <th></th>\n",
       "      <th>FA-DOMID</th>\n",
       "      <th>FA-PDBID</th>\n",
       "      <th>SF-DOMID</th>\n",
       "      <th>SF-PDBID</th>\n",
       "      <th>SF</th>\n",
       "      <th>FA</th>\n",
       "    </tr>\n",
       "  </thead>\n",
       "  <tbody>\n",
       "    <tr>\n",
       "      <th>0</th>\n",
       "      <td>8045703</td>\n",
       "      <td>3H8D</td>\n",
       "      <td>8091604</td>\n",
       "      <td>3H8D</td>\n",
       "      <td>3002524</td>\n",
       "      <td>4004627</td>\n",
       "    </tr>\n",
       "    <tr>\n",
       "      <th>1</th>\n",
       "      <td>8094330</td>\n",
       "      <td>6J56</td>\n",
       "      <td>8094331</td>\n",
       "      <td>6J56</td>\n",
       "      <td>3002524</td>\n",
       "      <td>4004627</td>\n",
       "    </tr>\n",
       "    <tr>\n",
       "      <th>2</th>\n",
       "      <td>8017835</td>\n",
       "      <td>3FKQ</td>\n",
       "      <td>8017836</td>\n",
       "      <td>3FKQ</td>\n",
       "      <td>3001156</td>\n",
       "      <td>4003986</td>\n",
       "    </tr>\n",
       "    <tr>\n",
       "      <th>3</th>\n",
       "      <td>8021315</td>\n",
       "      <td>1XHF</td>\n",
       "      <td>8033695</td>\n",
       "      <td>1XHF</td>\n",
       "      <td>3001156</td>\n",
       "      <td>4003632</td>\n",
       "    </tr>\n",
       "    <tr>\n",
       "      <th>4</th>\n",
       "      <td>8021787</td>\n",
       "      <td>1Y7P</td>\n",
       "      <td>8034167</td>\n",
       "      <td>1Y7P</td>\n",
       "      <td>3001156</td>\n",
       "      <td>4002481</td>\n",
       "    </tr>\n",
       "  </tbody>\n",
       "</table>\n",
       "</div>"
      ],
      "text/plain": [
       "   FA-DOMID FA-PDBID  SF-DOMID SF-PDBID       SF       FA\n",
       "0   8045703     3H8D   8091604     3H8D  3002524  4004627\n",
       "1   8094330     6J56   8094331     6J56  3002524  4004627\n",
       "2   8017835     3FKQ   8017836     3FKQ  3001156  4003986\n",
       "3   8021315     1XHF   8033695     1XHF  3001156  4003632\n",
       "4   8021787     1Y7P   8034167     1Y7P  3001156  4002481"
      ]
     },
     "execution_count": 3,
     "metadata": {},
     "output_type": "execute_result"
    }
   ],
   "source": [
    "cla.head()"
   ]
  },
  {
   "cell_type": "code",
   "execution_count": 4,
   "id": "4a63e95c-9c32-4603-a33b-5c1361c81db7",
   "metadata": {},
   "outputs": [
    {
     "data": {
      "text/plain": [
       "35644"
      ]
     },
     "execution_count": 4,
     "metadata": {},
     "output_type": "execute_result"
    }
   ],
   "source": [
    "cla['SF-DOMID'].nunique()"
   ]
  },
  {
   "cell_type": "code",
   "execution_count": 5,
   "id": "00c41347-88c7-47a1-8590-888840f98717",
   "metadata": {},
   "outputs": [],
   "source": [
    "cla = cla.drop_duplicates(subset=['FA-DOMID', 'FA-PDBID', 'SF-DOMID', 'SF-PDBID', 'SF', 'FA'])"
   ]
  },
  {
   "cell_type": "code",
   "execution_count": 6,
   "id": "48497ae3-82a8-4de7-908d-41000c7f5990",
   "metadata": {},
   "outputs": [
    {
     "data": {
      "text/plain": [
       "(35644, 6)"
      ]
     },
     "execution_count": 6,
     "metadata": {},
     "output_type": "execute_result"
    }
   ],
   "source": [
    "cla.shape"
   ]
  },
  {
   "cell_type": "code",
   "execution_count": 7,
   "id": "6212aafe-bc59-4b66-b58d-a2d6eada76e9",
   "metadata": {},
   "outputs": [
    {
     "data": {
      "text/html": [
       "<div>\n",
       "<style scoped>\n",
       "    .dataframe tbody tr th:only-of-type {\n",
       "        vertical-align: middle;\n",
       "    }\n",
       "\n",
       "    .dataframe tbody tr th {\n",
       "        vertical-align: top;\n",
       "    }\n",
       "\n",
       "    .dataframe thead th {\n",
       "        text-align: right;\n",
       "    }\n",
       "</style>\n",
       "<table border=\"1\" class=\"dataframe\">\n",
       "  <thead>\n",
       "    <tr style=\"text-align: right;\">\n",
       "      <th></th>\n",
       "      <th>FA-DOMID</th>\n",
       "      <th>FA-PDBID</th>\n",
       "      <th>SF-DOMID</th>\n",
       "      <th>SF-PDBID</th>\n",
       "      <th>SF</th>\n",
       "      <th>FA</th>\n",
       "    </tr>\n",
       "  </thead>\n",
       "  <tbody>\n",
       "    <tr>\n",
       "      <th>0</th>\n",
       "      <td>8045703</td>\n",
       "      <td>3H8D</td>\n",
       "      <td>8091604</td>\n",
       "      <td>3H8D</td>\n",
       "      <td>3002524</td>\n",
       "      <td>4004627</td>\n",
       "    </tr>\n",
       "    <tr>\n",
       "      <th>1</th>\n",
       "      <td>8094330</td>\n",
       "      <td>6J56</td>\n",
       "      <td>8094331</td>\n",
       "      <td>6J56</td>\n",
       "      <td>3002524</td>\n",
       "      <td>4004627</td>\n",
       "    </tr>\n",
       "    <tr>\n",
       "      <th>2</th>\n",
       "      <td>8017835</td>\n",
       "      <td>3FKQ</td>\n",
       "      <td>8017836</td>\n",
       "      <td>3FKQ</td>\n",
       "      <td>3001156</td>\n",
       "      <td>4003986</td>\n",
       "    </tr>\n",
       "    <tr>\n",
       "      <th>3</th>\n",
       "      <td>8021315</td>\n",
       "      <td>1XHF</td>\n",
       "      <td>8033695</td>\n",
       "      <td>1XHF</td>\n",
       "      <td>3001156</td>\n",
       "      <td>4003632</td>\n",
       "    </tr>\n",
       "    <tr>\n",
       "      <th>4</th>\n",
       "      <td>8021787</td>\n",
       "      <td>1Y7P</td>\n",
       "      <td>8034167</td>\n",
       "      <td>1Y7P</td>\n",
       "      <td>3001156</td>\n",
       "      <td>4002481</td>\n",
       "    </tr>\n",
       "  </tbody>\n",
       "</table>\n",
       "</div>"
      ],
      "text/plain": [
       "   FA-DOMID FA-PDBID  SF-DOMID SF-PDBID       SF       FA\n",
       "0   8045703     3H8D   8091604     3H8D  3002524  4004627\n",
       "1   8094330     6J56   8094331     6J56  3002524  4004627\n",
       "2   8017835     3FKQ   8017836     3FKQ  3001156  4003986\n",
       "3   8021315     1XHF   8033695     1XHF  3001156  4003632\n",
       "4   8021787     1Y7P   8034167     1Y7P  3001156  4002481"
      ]
     },
     "execution_count": 7,
     "metadata": {},
     "output_type": "execute_result"
    }
   ],
   "source": [
    "cla.head()"
   ]
  },
  {
   "cell_type": "code",
   "execution_count": 7,
   "id": "90b2a390-1a74-43e5-bf28-6c93778581ce",
   "metadata": {},
   "outputs": [],
   "source": [
    "# cla['TP'] = cla['SCOPCLA'].apply(lambda x: x.split(',')[0].split('=')[1])\n",
    "# cla['CL'] = cla['SCOPCLA'].apply(lambda x: x.split(',')[1].split('=')[1])\n",
    "# cla['CF'] = cla['SCOPCLA'].apply(lambda x: x.split(',')[2].split('=')[1])\n",
    "# cla['SF'] = cla['SCOPCLA'].apply(lambda x: x.split(',')[3].split('=')[1])\n",
    "# cla['FA'] = cla['SCOPCLA'].apply(lambda x: x.split(',')[4].split('=')[1])"
   ]
  },
  {
   "cell_type": "code",
   "execution_count": 8,
   "id": "85069da4-32e1-4dbb-b162-0ad6f7d065e1",
   "metadata": {},
   "outputs": [],
   "source": [
    "# cla.to_csv('scop/scop-cla-latest.csv', index=None)"
   ]
  },
  {
   "cell_type": "code",
   "execution_count": 9,
   "id": "c4e7190a-747d-456c-9b2e-ae6a7a1c4f07",
   "metadata": {},
   "outputs": [],
   "source": [
    "cla = cla.reset_index()\n",
    "cla.rename({'index':'uid'}, axis=1, inplace=True)"
   ]
  },
  {
   "cell_type": "code",
   "execution_count": 10,
   "id": "57fc515a-c76f-47a1-b419-e2b6a101e30d",
   "metadata": {},
   "outputs": [
    {
     "data": {
      "text/html": [
       "<div>\n",
       "<style scoped>\n",
       "    .dataframe tbody tr th:only-of-type {\n",
       "        vertical-align: middle;\n",
       "    }\n",
       "\n",
       "    .dataframe tbody tr th {\n",
       "        vertical-align: top;\n",
       "    }\n",
       "\n",
       "    .dataframe thead th {\n",
       "        text-align: right;\n",
       "    }\n",
       "</style>\n",
       "<table border=\"1\" class=\"dataframe\">\n",
       "  <thead>\n",
       "    <tr style=\"text-align: right;\">\n",
       "      <th></th>\n",
       "      <th>uid</th>\n",
       "      <th>CL</th>\n",
       "      <th>CF</th>\n",
       "      <th>SF</th>\n",
       "      <th>FA</th>\n",
       "    </tr>\n",
       "  </thead>\n",
       "  <tbody>\n",
       "    <tr>\n",
       "      <th>0</th>\n",
       "      <td>0</td>\n",
       "      <td>1000003</td>\n",
       "      <td>2001470</td>\n",
       "      <td>3002524</td>\n",
       "      <td>4004627</td>\n",
       "    </tr>\n",
       "    <tr>\n",
       "      <th>1</th>\n",
       "      <td>2</td>\n",
       "      <td>1000002</td>\n",
       "      <td>2000016</td>\n",
       "      <td>3001156</td>\n",
       "      <td>4003986</td>\n",
       "    </tr>\n",
       "    <tr>\n",
       "      <th>2</th>\n",
       "      <td>3</td>\n",
       "      <td>1000002</td>\n",
       "      <td>2000016</td>\n",
       "      <td>3001156</td>\n",
       "      <td>4003632</td>\n",
       "    </tr>\n",
       "    <tr>\n",
       "      <th>3</th>\n",
       "      <td>4</td>\n",
       "      <td>1000002</td>\n",
       "      <td>2000016</td>\n",
       "      <td>3001156</td>\n",
       "      <td>4002481</td>\n",
       "    </tr>\n",
       "    <tr>\n",
       "      <th>4</th>\n",
       "      <td>20</td>\n",
       "      <td>1000002</td>\n",
       "      <td>2000016</td>\n",
       "      <td>3001156</td>\n",
       "      <td>4002478</td>\n",
       "    </tr>\n",
       "  </tbody>\n",
       "</table>\n",
       "</div>"
      ],
      "text/plain": [
       "   uid       CL       CF       SF       FA\n",
       "0    0  1000003  2001470  3002524  4004627\n",
       "1    2  1000002  2000016  3001156  4003986\n",
       "2    3  1000002  2000016  3001156  4003632\n",
       "3    4  1000002  2000016  3001156  4002481\n",
       "4   20  1000002  2000016  3001156  4002478"
      ]
     },
     "execution_count": 10,
     "metadata": {},
     "output_type": "execute_result"
    }
   ],
   "source": [
    "cla.head()"
   ]
  },
  {
   "cell_type": "code",
   "execution_count": 11,
   "id": "47804adc-4c8c-4564-9cb9-8558dc280561",
   "metadata": {},
   "outputs": [],
   "source": [
    "from itertools import combinations"
   ]
  },
  {
   "cell_type": "code",
   "execution_count": 12,
   "id": "23f50b83-1f28-4c26-aa07-6f89eef0ab0e",
   "metadata": {},
   "outputs": [
    {
     "name": "stdout",
     "output_type": "stream",
     "text": [
      "CPU times: user 1.22 s, sys: 413 ms, total: 1.63 s\n",
      "Wall time: 1.8 s\n"
     ]
    }
   ],
   "source": [
    "%%time\n",
    "uids = cla.uid.values.tolist()\n",
    "pairs = list(combinations(uids, 2))"
   ]
  },
  {
   "cell_type": "code",
   "execution_count": 13,
   "id": "e6087f3b-93cf-45c9-a0db-997a5f669003",
   "metadata": {},
   "outputs": [
    {
     "data": {
      "text/plain": [
       "(5945, 17668540)"
      ]
     },
     "execution_count": 13,
     "metadata": {},
     "output_type": "execute_result"
    }
   ],
   "source": [
    "len(uids), len(pairs)"
   ]
  },
  {
   "cell_type": "code",
   "execution_count": 14,
   "id": "ee0d211d-bb80-4bab-8030-477ad5da1afe",
   "metadata": {},
   "outputs": [
    {
     "data": {
      "text/plain": [
       "[(0, 2), (0, 3), (0, 4), (0, 20), (0, 25)]"
      ]
     },
     "execution_count": 14,
     "metadata": {},
     "output_type": "execute_result"
    }
   ],
   "source": [
    "pairs[:5]"
   ]
  },
  {
   "cell_type": "code",
   "execution_count": 15,
   "id": "15ab1d7b-ad6a-4a3f-8260-866725238c87",
   "metadata": {},
   "outputs": [
    {
     "data": {
      "text/plain": [
       "[0, 1000003, 2001470, 3002524, 4004627, 2, 1000002, 2000016, 3001156, 4003986]"
      ]
     },
     "execution_count": 15,
     "metadata": {},
     "output_type": "execute_result"
    }
   ],
   "source": [
    "# pd.concat([cla[cla.uid==0].add_suffix('_query'),cla[cla.uid==1].add_suffix('_context')], axis=1)\n",
    "# (cla[cla.uid==0].add_suffix('_query')).join(cla[cla.uid==1].add_suffix('_context')).values\n",
    "# np.hstack([cla[cla.uid==0].values,cla[cla.uid==1].values])\n",
    "cla[cla.uid==0].values.tolist()[0] + cla[cla.uid==2].values.tolist()[0]"
   ]
  },
  {
   "cell_type": "code",
   "execution_count": 16,
   "id": "34ae1edb-ad2e-4f95-997f-0be515d1aa30",
   "metadata": {
    "scrolled": true
   },
   "outputs": [
    {
     "data": {
      "text/plain": [
       "['uid_query',\n",
       " 'CL_query',\n",
       " 'CF_query',\n",
       " 'SF_query',\n",
       " 'FA_query',\n",
       " 'uid_context',\n",
       " 'CL_context',\n",
       " 'CF_context',\n",
       " 'SF_context',\n",
       " 'FA_context']"
      ]
     },
     "execution_count": 16,
     "metadata": {},
     "output_type": "execute_result"
    }
   ],
   "source": [
    "columns = [f'{col}_{suf}' for suf in ['query','context'] for col in cla.columns]\n",
    "columns"
   ]
  },
  {
   "cell_type": "code",
   "execution_count": 17,
   "id": "33b44959-96a7-4653-b830-23120a860baf",
   "metadata": {},
   "outputs": [],
   "source": [
    "import multiprocessing\n",
    "\n",
    "def double(a, b):\n",
    "    return cla[cla.uid==a].values.tolist()[0] + cla[cla.uid==b].values.tolist()[0]\n",
    "\n",
    "def driver_func():\n",
    "    PROCESSES = 4\n",
    "    with multiprocessing.Pool(PROCESSES) as pool:\n",
    "        results = [pool.apply_async(double, q, c) for q, c in pairs]\n",
    "\n",
    "    return results"
   ]
  },
  {
   "cell_type": "code",
   "execution_count": 18,
   "id": "82f6dc04-b4d0-4cd7-bac1-a004f1ff2a6c",
   "metadata": {
    "scrolled": true
   },
   "outputs": [
    {
     "name": "stdout",
     "output_type": "stream",
     "text": [
      "Unexpected exception formatting exception. Falling back to standard exception\n"
     ]
    },
    {
     "name": "stderr",
     "output_type": "stream",
     "text": [
      "Traceback (most recent call last):\n",
      "  File \"/Users/sasu/anaconda3/envs/llm-stock-screener/lib/python3.11/site-packages/IPython/core/magics/execution.py\", line 1340, in time\n",
      "    exec(code, glob, local_ns)\n",
      "  File \"<timed exec>\", line 2, in <module>\n",
      "  File \"/Users/sasu/anaconda3/envs/llm-stock-screener/lib/python3.11/site-packages/pandas/core/frame.py\", line 841, in __init__\n",
      "    raise ValueError(\"DataFrame constructor not properly called!\")\n",
      "ValueError: DataFrame constructor not properly called!\n",
      "\n",
      "During handling of the above exception, another exception occurred:\n",
      "\n",
      "Traceback (most recent call last):\n",
      "  File \"/Users/sasu/anaconda3/envs/llm-stock-screener/lib/python3.11/site-packages/IPython/core/interactiveshell.py\", line 2144, in showtraceback\n",
      "    stb = self.InteractiveTB.structured_traceback(\n",
      "          ^^^^^^^^^^^^^^^^^^^^^^^^^^^^^^^^^^^^^^^^\n",
      "  File \"/Users/sasu/anaconda3/envs/llm-stock-screener/lib/python3.11/site-packages/IPython/core/ultratb.py\", line 1435, in structured_traceback\n",
      "    return FormattedTB.structured_traceback(\n",
      "           ^^^^^^^^^^^^^^^^^^^^^^^^^^^^^^^^^\n",
      "  File \"/Users/sasu/anaconda3/envs/llm-stock-screener/lib/python3.11/site-packages/IPython/core/ultratb.py\", line 1326, in structured_traceback\n",
      "    return VerboseTB.structured_traceback(\n",
      "           ^^^^^^^^^^^^^^^^^^^^^^^^^^^^^^^\n",
      "  File \"/Users/sasu/anaconda3/envs/llm-stock-screener/lib/python3.11/site-packages/IPython/core/ultratb.py\", line 1173, in structured_traceback\n",
      "    formatted_exception = self.format_exception_as_a_whole(etype, evalue, etb, number_of_lines_of_context,\n",
      "                          ^^^^^^^^^^^^^^^^^^^^^^^^^^^^^^^^^^^^^^^^^^^^^^^^^^^^^^^^^^^^^^^^^^^^^^^^^^^^^^^^\n",
      "  File \"/Users/sasu/anaconda3/envs/llm-stock-screener/lib/python3.11/site-packages/IPython/core/ultratb.py\", line 1063, in format_exception_as_a_whole\n",
      "    self.get_records(etb, number_of_lines_of_context, tb_offset) if etb else []\n",
      "    ^^^^^^^^^^^^^^^^^^^^^^^^^^^^^^^^^^^^^^^^^^^^^^^^^^^^^^^^^^^^\n",
      "  File \"/Users/sasu/anaconda3/envs/llm-stock-screener/lib/python3.11/site-packages/IPython/core/ultratb.py\", line 1155, in get_records\n",
      "    FrameInfo(\n",
      "  File \"/Users/sasu/anaconda3/envs/llm-stock-screener/lib/python3.11/site-packages/IPython/core/ultratb.py\", line 780, in __init__\n",
      "    ix = inspect.getsourcelines(frame)\n",
      "         ^^^^^^^^^^^^^^^^^^^^^^^^^^^^^\n",
      "  File \"/Users/sasu/anaconda3/envs/llm-stock-screener/lib/python3.11/inspect.py\", line 1244, in getsourcelines\n",
      "    lines, lnum = findsource(object)\n",
      "                  ^^^^^^^^^^^^^^^^^^\n",
      "  File \"/Users/sasu/anaconda3/envs/llm-stock-screener/lib/python3.11/inspect.py\", line 1081, in findsource\n",
      "    raise OSError('could not get source code')\n",
      "OSError: could not get source code\n"
     ]
    }
   ],
   "source": [
    "%%time\n",
    "results = driver_func()\n",
    "results = pd.DataFrame(results, columns=columns)"
   ]
  },
  {
   "cell_type": "code",
   "execution_count": null,
   "id": "927c4f5e-89c9-4154-a14f-59452e454112",
   "metadata": {},
   "outputs": [],
   "source": []
  },
  {
   "cell_type": "code",
   "execution_count": null,
   "id": "355046d4-2b1a-4c4e-8c9f-8421d2e9989b",
   "metadata": {},
   "outputs": [],
   "source": []
  },
  {
   "cell_type": "code",
   "execution_count": null,
   "id": "d8914518-c42d-4872-a16e-a5287af1578b",
   "metadata": {},
   "outputs": [],
   "source": [
    "def calculate_remote_homologs(sfi, fai, sfj, faj):\n",
    "    if sfi == sfj and fai != faj:\n",
    "        return True\n",
    "    else:\n",
    "        return False"
   ]
  },
  {
   "cell_type": "code",
   "execution_count": null,
   "id": "d95cb330-f686-4be0-8520-ecf23050635b",
   "metadata": {},
   "outputs": [],
   "source": [
    "%%time\n",
    "pairs['remote_homologs'] = pairs.apply(lambda row: calculate_remote_homologs(row['SF_query'], row['FA_query'], row['SF_context'], row['FA_context']), axis=1)"
   ]
  },
  {
   "cell_type": "markdown",
   "id": "4e0254a1-7f21-4e1d-936c-a5291c73f564",
   "metadata": {},
   "source": [
    "## Pre Process"
   ]
  },
  {
   "cell_type": "code",
   "execution_count": 2,
   "id": "4f10f424-5a1e-460c-8856-6d1ba3a2198f",
   "metadata": {},
   "outputs": [
    {
     "data": {
      "text/plain": [
       "(139296, 19)"
      ]
     },
     "execution_count": 2,
     "metadata": {},
     "output_type": "execute_result"
    }
   ],
   "source": [
    "data = pd.read_csv('scop/scop_dataset.csv')\n",
    "data.shape"
   ]
  },
  {
   "cell_type": "code",
   "execution_count": 3,
   "id": "2e734d64-f58e-43b5-befb-f6e140787950",
   "metadata": {},
   "outputs": [
    {
     "data": {
      "text/html": [
       "<div>\n",
       "<style scoped>\n",
       "    .dataframe tbody tr th:only-of-type {\n",
       "        vertical-align: middle;\n",
       "    }\n",
       "\n",
       "    .dataframe tbody tr th {\n",
       "        vertical-align: top;\n",
       "    }\n",
       "\n",
       "    .dataframe thead th {\n",
       "        text-align: right;\n",
       "    }\n",
       "</style>\n",
       "<table border=\"1\" class=\"dataframe\">\n",
       "  <thead>\n",
       "    <tr style=\"text-align: right;\">\n",
       "      <th></th>\n",
       "      <th>uid_query</th>\n",
       "      <th>FA-DOMID_query</th>\n",
       "      <th>FA-PDBID_query</th>\n",
       "      <th>SF-DOMID_query</th>\n",
       "      <th>SF-PDBID_query</th>\n",
       "      <th>SF_query</th>\n",
       "      <th>FA_query</th>\n",
       "      <th>uid_context</th>\n",
       "      <th>FA-DOMID_context</th>\n",
       "      <th>FA-PDBID_context</th>\n",
       "      <th>SF-DOMID_context</th>\n",
       "      <th>SF-PDBID_context</th>\n",
       "      <th>SF_context</th>\n",
       "      <th>FA_context</th>\n",
       "      <th>remote_homologs</th>\n",
       "      <th>FA_seq_query</th>\n",
       "      <th>FA_seq_context</th>\n",
       "      <th>SF_seq_query</th>\n",
       "      <th>SF_seq_context</th>\n",
       "    </tr>\n",
       "  </thead>\n",
       "  <tbody>\n",
       "    <tr>\n",
       "      <th>0</th>\n",
       "      <td>6034</td>\n",
       "      <td>8063839</td>\n",
       "      <td>5O5J</td>\n",
       "      <td>8063840</td>\n",
       "      <td>5O5J</td>\n",
       "      <td>3001397</td>\n",
       "      <td>4003744</td>\n",
       "      <td>6021</td>\n",
       "      <td>8063711</td>\n",
       "      <td>5UQI</td>\n",
       "      <td>8063712</td>\n",
       "      <td>5UQI</td>\n",
       "      <td>3001397</td>\n",
       "      <td>4003354</td>\n",
       "      <td>True</td>\n",
       "      <td>MAVVTMKQLLDSGAHFGHQTRRWNPKMKRFIFTDRNGIYIIDLQQT...</td>\n",
       "      <td>MNNTDLIHLIKHFMHNELKAVEEVIDSPLSEFANLIKVLQSCQGKV...</td>\n",
       "      <td>MAVVTMKQLLDSGAHFGHQTRRWNPKMKRFIFTDRNGIYIIDLQQT...</td>\n",
       "      <td>MNNTDLIHLIKHFMHNELKAVEEVIDSPLSEFANLIKVLQSCQGKV...</td>\n",
       "    </tr>\n",
       "    <tr>\n",
       "      <th>1</th>\n",
       "      <td>6034</td>\n",
       "      <td>8063839</td>\n",
       "      <td>5O5J</td>\n",
       "      <td>8063840</td>\n",
       "      <td>5O5J</td>\n",
       "      <td>3001397</td>\n",
       "      <td>4003744</td>\n",
       "      <td>6039</td>\n",
       "      <td>8081229</td>\n",
       "      <td>4S12</td>\n",
       "      <td>8081230</td>\n",
       "      <td>4S12</td>\n",
       "      <td>3001397</td>\n",
       "      <td>4003354</td>\n",
       "      <td>True</td>\n",
       "      <td>MAVVTMKQLLDSGAHFGHQTRRWNPKMKRFIFTDRNGIYIIDLQQT...</td>\n",
       "      <td>MKLGALISESRNPDTMDLDTLSTLEMLTRINDEDRKVPEAIRLVIP...</td>\n",
       "      <td>MAVVTMKQLLDSGAHFGHQTRRWNPKMKRFIFTDRNGIYIIDLQQT...</td>\n",
       "      <td>MKLGALISESRNPDTMDLDTLSTLEMLTRINDEDRKVPEAIRLVIP...</td>\n",
       "    </tr>\n",
       "    <tr>\n",
       "      <th>2</th>\n",
       "      <td>6034</td>\n",
       "      <td>8063839</td>\n",
       "      <td>5O5J</td>\n",
       "      <td>8063840</td>\n",
       "      <td>5O5J</td>\n",
       "      <td>3001397</td>\n",
       "      <td>4003744</td>\n",
       "      <td>6000</td>\n",
       "      <td>8024588</td>\n",
       "      <td>1JEO</td>\n",
       "      <td>8036967</td>\n",
       "      <td>1JEO</td>\n",
       "      <td>3001397</td>\n",
       "      <td>4003354</td>\n",
       "      <td>True</td>\n",
       "      <td>MAVVTMKQLLDSGAHFGHQTRRWNPKMKRFIFTDRNGIYIIDLQQT...</td>\n",
       "      <td>LEELDIVSNNILILKKFYTNDEWKNKLDSLIDRIIKAKKIFIFGVG...</td>\n",
       "      <td>MAVVTMKQLLDSGAHFGHQTRRWNPKMKRFIFTDRNGIYIIDLQQT...</td>\n",
       "      <td>LEELDIVSNNILILKKFYTNDEWKNKLDSLIDRIIKAKKIFIFGVG...</td>\n",
       "    </tr>\n",
       "    <tr>\n",
       "      <th>3</th>\n",
       "      <td>6034</td>\n",
       "      <td>8063839</td>\n",
       "      <td>5O5J</td>\n",
       "      <td>8063840</td>\n",
       "      <td>5O5J</td>\n",
       "      <td>3001397</td>\n",
       "      <td>4003744</td>\n",
       "      <td>6009</td>\n",
       "      <td>8031210</td>\n",
       "      <td>1WIW</td>\n",
       "      <td>8043588</td>\n",
       "      <td>1WIW</td>\n",
       "      <td>3001397</td>\n",
       "      <td>4000802</td>\n",
       "      <td>True</td>\n",
       "      <td>MAVVTMKQLLDSGAHFGHQTRRWNPKMKRFIFTDRNGIYIIDLQQT...</td>\n",
       "      <td>MRDLDREETYLVDRTGLALELRDLVGTGPVPGEAYPGPHAALGYGE...</td>\n",
       "      <td>MAVVTMKQLLDSGAHFGHQTRRWNPKMKRFIFTDRNGIYIIDLQQT...</td>\n",
       "      <td>GPVPGEAYPGPHAALGYGEGQFAALLSGLPDWGEEGTLFLLEGGYD...</td>\n",
       "    </tr>\n",
       "    <tr>\n",
       "      <th>4</th>\n",
       "      <td>6034</td>\n",
       "      <td>8063839</td>\n",
       "      <td>5O5J</td>\n",
       "      <td>8063840</td>\n",
       "      <td>5O5J</td>\n",
       "      <td>3001397</td>\n",
       "      <td>4003744</td>\n",
       "      <td>5997</td>\n",
       "      <td>8021436</td>\n",
       "      <td>1IAT</td>\n",
       "      <td>8033816</td>\n",
       "      <td>1IAT</td>\n",
       "      <td>3001397</td>\n",
       "      <td>4000799</td>\n",
       "      <td>True</td>\n",
       "      <td>MAVVTMKQLLDSGAHFGHQTRRWNPKMKRFIFTDRNGIYIIDLQQT...</td>\n",
       "      <td>AALTRDPQFQKLQQWYREHRSELNLRRLFDANKDRFNHFSLTLNTN...</td>\n",
       "      <td>MAVVTMKQLLDSGAHFGHQTRRWNPKMKRFIFTDRNGIYIIDLQQT...</td>\n",
       "      <td>VNKVLDKMKSFCQRVRSGDWKGYTGKTITDVINIGIGGSDLGPLMV...</td>\n",
       "    </tr>\n",
       "  </tbody>\n",
       "</table>\n",
       "</div>"
      ],
      "text/plain": [
       "   uid_query  FA-DOMID_query FA-PDBID_query  SF-DOMID_query SF-PDBID_query  \\\n",
       "0       6034         8063839           5O5J         8063840           5O5J   \n",
       "1       6034         8063839           5O5J         8063840           5O5J   \n",
       "2       6034         8063839           5O5J         8063840           5O5J   \n",
       "3       6034         8063839           5O5J         8063840           5O5J   \n",
       "4       6034         8063839           5O5J         8063840           5O5J   \n",
       "\n",
       "   SF_query  FA_query  uid_context  FA-DOMID_context FA-PDBID_context  \\\n",
       "0   3001397   4003744         6021           8063711             5UQI   \n",
       "1   3001397   4003744         6039           8081229             4S12   \n",
       "2   3001397   4003744         6000           8024588             1JEO   \n",
       "3   3001397   4003744         6009           8031210             1WIW   \n",
       "4   3001397   4003744         5997           8021436             1IAT   \n",
       "\n",
       "   SF-DOMID_context SF-PDBID_context  SF_context  FA_context  remote_homologs  \\\n",
       "0           8063712             5UQI     3001397     4003354             True   \n",
       "1           8081230             4S12     3001397     4003354             True   \n",
       "2           8036967             1JEO     3001397     4003354             True   \n",
       "3           8043588             1WIW     3001397     4000802             True   \n",
       "4           8033816             1IAT     3001397     4000799             True   \n",
       "\n",
       "                                        FA_seq_query  \\\n",
       "0  MAVVTMKQLLDSGAHFGHQTRRWNPKMKRFIFTDRNGIYIIDLQQT...   \n",
       "1  MAVVTMKQLLDSGAHFGHQTRRWNPKMKRFIFTDRNGIYIIDLQQT...   \n",
       "2  MAVVTMKQLLDSGAHFGHQTRRWNPKMKRFIFTDRNGIYIIDLQQT...   \n",
       "3  MAVVTMKQLLDSGAHFGHQTRRWNPKMKRFIFTDRNGIYIIDLQQT...   \n",
       "4  MAVVTMKQLLDSGAHFGHQTRRWNPKMKRFIFTDRNGIYIIDLQQT...   \n",
       "\n",
       "                                      FA_seq_context  \\\n",
       "0  MNNTDLIHLIKHFMHNELKAVEEVIDSPLSEFANLIKVLQSCQGKV...   \n",
       "1  MKLGALISESRNPDTMDLDTLSTLEMLTRINDEDRKVPEAIRLVIP...   \n",
       "2  LEELDIVSNNILILKKFYTNDEWKNKLDSLIDRIIKAKKIFIFGVG...   \n",
       "3  MRDLDREETYLVDRTGLALELRDLVGTGPVPGEAYPGPHAALGYGE...   \n",
       "4  AALTRDPQFQKLQQWYREHRSELNLRRLFDANKDRFNHFSLTLNTN...   \n",
       "\n",
       "                                        SF_seq_query  \\\n",
       "0  MAVVTMKQLLDSGAHFGHQTRRWNPKMKRFIFTDRNGIYIIDLQQT...   \n",
       "1  MAVVTMKQLLDSGAHFGHQTRRWNPKMKRFIFTDRNGIYIIDLQQT...   \n",
       "2  MAVVTMKQLLDSGAHFGHQTRRWNPKMKRFIFTDRNGIYIIDLQQT...   \n",
       "3  MAVVTMKQLLDSGAHFGHQTRRWNPKMKRFIFTDRNGIYIIDLQQT...   \n",
       "4  MAVVTMKQLLDSGAHFGHQTRRWNPKMKRFIFTDRNGIYIIDLQQT...   \n",
       "\n",
       "                                      SF_seq_context  \n",
       "0  MNNTDLIHLIKHFMHNELKAVEEVIDSPLSEFANLIKVLQSCQGKV...  \n",
       "1  MKLGALISESRNPDTMDLDTLSTLEMLTRINDEDRKVPEAIRLVIP...  \n",
       "2  LEELDIVSNNILILKKFYTNDEWKNKLDSLIDRIIKAKKIFIFGVG...  \n",
       "3  GPVPGEAYPGPHAALGYGEGQFAALLSGLPDWGEEGTLFLLEGGYD...  \n",
       "4  VNKVLDKMKSFCQRVRSGDWKGYTGKTITDVINIGIGGSDLGPLMV...  "
      ]
     },
     "execution_count": 3,
     "metadata": {},
     "output_type": "execute_result"
    }
   ],
   "source": [
    "data.head()"
   ]
  },
  {
   "cell_type": "code",
   "execution_count": 4,
   "id": "315948d7-175b-49c8-9987-e8f5df63e5cb",
   "metadata": {},
   "outputs": [
    {
     "data": {
      "text/plain": [
       "(139296, 19)"
      ]
     },
     "execution_count": 4,
     "metadata": {},
     "output_type": "execute_result"
    }
   ],
   "source": [
    "data = data.sample(frac=1)\n",
    "data.shape"
   ]
  },
  {
   "cell_type": "code",
   "execution_count": 5,
   "id": "65e8e2f8-fba1-4842-bdb8-67a4a9bcdf05",
   "metadata": {},
   "outputs": [],
   "source": [
    "data = data.reset_index()\n",
    "data.rename({'index': 'pair_id'}, axis=1, inplace=True)"
   ]
  },
  {
   "cell_type": "code",
   "execution_count": 6,
   "id": "c1755286-9484-4651-a4fb-8e2b80dd72a6",
   "metadata": {},
   "outputs": [
    {
     "data": {
      "text/html": [
       "<div>\n",
       "<style scoped>\n",
       "    .dataframe tbody tr th:only-of-type {\n",
       "        vertical-align: middle;\n",
       "    }\n",
       "\n",
       "    .dataframe tbody tr th {\n",
       "        vertical-align: top;\n",
       "    }\n",
       "\n",
       "    .dataframe thead th {\n",
       "        text-align: right;\n",
       "    }\n",
       "</style>\n",
       "<table border=\"1\" class=\"dataframe\">\n",
       "  <thead>\n",
       "    <tr style=\"text-align: right;\">\n",
       "      <th></th>\n",
       "      <th>pair_id</th>\n",
       "      <th>uid_query</th>\n",
       "      <th>FA-DOMID_query</th>\n",
       "      <th>FA-PDBID_query</th>\n",
       "      <th>SF-DOMID_query</th>\n",
       "      <th>SF-PDBID_query</th>\n",
       "      <th>SF_query</th>\n",
       "      <th>FA_query</th>\n",
       "      <th>uid_context</th>\n",
       "      <th>FA-DOMID_context</th>\n",
       "      <th>FA-PDBID_context</th>\n",
       "      <th>SF-DOMID_context</th>\n",
       "      <th>SF-PDBID_context</th>\n",
       "      <th>SF_context</th>\n",
       "      <th>FA_context</th>\n",
       "      <th>remote_homologs</th>\n",
       "      <th>FA_seq_query</th>\n",
       "      <th>FA_seq_context</th>\n",
       "      <th>SF_seq_query</th>\n",
       "      <th>SF_seq_context</th>\n",
       "    </tr>\n",
       "  </thead>\n",
       "  <tbody>\n",
       "    <tr>\n",
       "      <th>0</th>\n",
       "      <td>23139</td>\n",
       "      <td>11924</td>\n",
       "      <td>8028950</td>\n",
       "      <td>1VFG</td>\n",
       "      <td>8041329</td>\n",
       "      <td>1VFG</td>\n",
       "      <td>3000129</td>\n",
       "      <td>4003222</td>\n",
       "      <td>11927</td>\n",
       "      <td>8029746</td>\n",
       "      <td>1HUZ</td>\n",
       "      <td>8042125</td>\n",
       "      <td>1HUZ</td>\n",
       "      <td>3000129</td>\n",
       "      <td>4001836</td>\n",
       "      <td>True</td>\n",
       "      <td>VGQIAKEMGLRAYIVGGVVRDILLGKEVWDVDFVVEGNAIELAKEL...</td>\n",
       "      <td>RIPREEMLQMQDIVLNEVKKLDPEYIATVCGSFRRGAESSGDMDVL...</td>\n",
       "      <td>VGQIAKEMGLRAYIVGGVVRDILLGKEVWDVDFVVEGNAIELAKEL...</td>\n",
       "      <td>RIPREEMLQMQDIVLNEVKKLDPEYIATVCGSFRRGAESSGDMDVL...</td>\n",
       "    </tr>\n",
       "    <tr>\n",
       "      <th>1</th>\n",
       "      <td>18554</td>\n",
       "      <td>3530</td>\n",
       "      <td>8048302</td>\n",
       "      <td>3UFI</td>\n",
       "      <td>8102549</td>\n",
       "      <td>3UFI</td>\n",
       "      <td>3002736</td>\n",
       "      <td>4006044</td>\n",
       "      <td>13415</td>\n",
       "      <td>8067337</td>\n",
       "      <td>5D66</td>\n",
       "      <td>8067338</td>\n",
       "      <td>5D66</td>\n",
       "      <td>3000154</td>\n",
       "      <td>4000366</td>\n",
       "      <td>False</td>\n",
       "      <td>RAYKPIEIYGNINEVVNNVQETRAVGAAWGSDDRIGVTVEADEDNA...</td>\n",
       "      <td>DEYPLHMAAANDDIQLIKHILSQKTLIDARDETGSTALMVATRANN...</td>\n",
       "      <td>RAYKPIEIYGNINEVVNNVQETRAVGAAWGSDDRIGVTVEADEDNA...</td>\n",
       "      <td>DEYPLHMAAANDDIQLIKHILSQKTLIDARDETGSTALMVATRANN...</td>\n",
       "    </tr>\n",
       "    <tr>\n",
       "      <th>2</th>\n",
       "      <td>35966</td>\n",
       "      <td>34174</td>\n",
       "      <td>8096125</td>\n",
       "      <td>6L3A</td>\n",
       "      <td>8096126</td>\n",
       "      <td>6L3A</td>\n",
       "      <td>3001061</td>\n",
       "      <td>4001206</td>\n",
       "      <td>5864</td>\n",
       "      <td>8020531</td>\n",
       "      <td>1DXH</td>\n",
       "      <td>8032911</td>\n",
       "      <td>1DXH</td>\n",
       "      <td>3001396</td>\n",
       "      <td>4000794</td>\n",
       "      <td>False</td>\n",
       "      <td>GKACPYPFAEMERLEIHPEYNRLRDAGELGRVLMPYGGETWLATSW...</td>\n",
       "      <td>KPLHDISYAYLGDARNNMGNSLLLIGAKLGMDVRIAAPKALWPHDE...</td>\n",
       "      <td>GKACPYPFAEMERLEIHPEYNRLRDAGELGRVLMPYGGETWLATSW...</td>\n",
       "      <td>KPLHDISYAYLGDARNNMGNSLLLIGAKLGMDVRIAAPKALWPHDE...</td>\n",
       "    </tr>\n",
       "    <tr>\n",
       "      <th>3</th>\n",
       "      <td>121396</td>\n",
       "      <td>5837</td>\n",
       "      <td>8102161</td>\n",
       "      <td>7ANC</td>\n",
       "      <td>8102162</td>\n",
       "      <td>7ANC</td>\n",
       "      <td>3000038</td>\n",
       "      <td>4000088</td>\n",
       "      <td>1464</td>\n",
       "      <td>8065459</td>\n",
       "      <td>3BX4</td>\n",
       "      <td>8065460</td>\n",
       "      <td>3BX4</td>\n",
       "      <td>3001261</td>\n",
       "      <td>4002453</td>\n",
       "      <td>False</td>\n",
       "      <td>MQTNSKIYIAGHKGTAGTALVENLQKRGFNNLVLKTRQELDLVNQQ...</td>\n",
       "      <td>CPSGWSSYEGHCYKPFNEPKNWADAERFCKLQPKHSHLVSFQSAEE...</td>\n",
       "      <td>MQTNSKIYIAGHKGTAGTALVENLQKRGFNNLVLKTRQELDLVNQQ...</td>\n",
       "      <td>CPSGWSSYEGHCYKPFNEPKNWADAERFCKLQPKHSHLVSFQSAEE...</td>\n",
       "    </tr>\n",
       "    <tr>\n",
       "      <th>4</th>\n",
       "      <td>25085</td>\n",
       "      <td>568</td>\n",
       "      <td>8048542</td>\n",
       "      <td>3P4H</td>\n",
       "      <td>8092048</td>\n",
       "      <td>3P4H</td>\n",
       "      <td>3002555</td>\n",
       "      <td>4006141</td>\n",
       "      <td>14649</td>\n",
       "      <td>8027365</td>\n",
       "      <td>1SW3</td>\n",
       "      <td>8039744</td>\n",
       "      <td>1SW3</td>\n",
       "      <td>3000190</td>\n",
       "      <td>4003038</td>\n",
       "      <td>False</td>\n",
       "      <td>MPRFVVQEHHARRLHWDLRLEMDNVLKSWALPKGVPEKRGVKRLAI...</td>\n",
       "      <td>APRKFFVGGNWKMNGDKKSLGELIHTLNGAKLSADTEVVCGAPSIY...</td>\n",
       "      <td>MPRFVVQEHHARRLHWDLRLEMDNVLKSWALPKGVPEKRGVKRLAI...</td>\n",
       "      <td>APRKFFVGGNWKMNGDKKSLGELIHTLNGAKLSADTEVVCGAPSIY...</td>\n",
       "    </tr>\n",
       "  </tbody>\n",
       "</table>\n",
       "</div>"
      ],
      "text/plain": [
       "   pair_id  uid_query  FA-DOMID_query FA-PDBID_query  SF-DOMID_query  \\\n",
       "0    23139      11924         8028950           1VFG         8041329   \n",
       "1    18554       3530         8048302           3UFI         8102549   \n",
       "2    35966      34174         8096125           6L3A         8096126   \n",
       "3   121396       5837         8102161           7ANC         8102162   \n",
       "4    25085        568         8048542           3P4H         8092048   \n",
       "\n",
       "  SF-PDBID_query  SF_query  FA_query  uid_context  FA-DOMID_context  \\\n",
       "0           1VFG   3000129   4003222        11927           8029746   \n",
       "1           3UFI   3002736   4006044        13415           8067337   \n",
       "2           6L3A   3001061   4001206         5864           8020531   \n",
       "3           7ANC   3000038   4000088         1464           8065459   \n",
       "4           3P4H   3002555   4006141        14649           8027365   \n",
       "\n",
       "  FA-PDBID_context  SF-DOMID_context SF-PDBID_context  SF_context  FA_context  \\\n",
       "0             1HUZ           8042125             1HUZ     3000129     4001836   \n",
       "1             5D66           8067338             5D66     3000154     4000366   \n",
       "2             1DXH           8032911             1DXH     3001396     4000794   \n",
       "3             3BX4           8065460             3BX4     3001261     4002453   \n",
       "4             1SW3           8039744             1SW3     3000190     4003038   \n",
       "\n",
       "   remote_homologs                                       FA_seq_query  \\\n",
       "0             True  VGQIAKEMGLRAYIVGGVVRDILLGKEVWDVDFVVEGNAIELAKEL...   \n",
       "1            False  RAYKPIEIYGNINEVVNNVQETRAVGAAWGSDDRIGVTVEADEDNA...   \n",
       "2            False  GKACPYPFAEMERLEIHPEYNRLRDAGELGRVLMPYGGETWLATSW...   \n",
       "3            False  MQTNSKIYIAGHKGTAGTALVENLQKRGFNNLVLKTRQELDLVNQQ...   \n",
       "4            False  MPRFVVQEHHARRLHWDLRLEMDNVLKSWALPKGVPEKRGVKRLAI...   \n",
       "\n",
       "                                      FA_seq_context  \\\n",
       "0  RIPREEMLQMQDIVLNEVKKLDPEYIATVCGSFRRGAESSGDMDVL...   \n",
       "1  DEYPLHMAAANDDIQLIKHILSQKTLIDARDETGSTALMVATRANN...   \n",
       "2  KPLHDISYAYLGDARNNMGNSLLLIGAKLGMDVRIAAPKALWPHDE...   \n",
       "3  CPSGWSSYEGHCYKPFNEPKNWADAERFCKLQPKHSHLVSFQSAEE...   \n",
       "4  APRKFFVGGNWKMNGDKKSLGELIHTLNGAKLSADTEVVCGAPSIY...   \n",
       "\n",
       "                                        SF_seq_query  \\\n",
       "0  VGQIAKEMGLRAYIVGGVVRDILLGKEVWDVDFVVEGNAIELAKEL...   \n",
       "1  RAYKPIEIYGNINEVVNNVQETRAVGAAWGSDDRIGVTVEADEDNA...   \n",
       "2  GKACPYPFAEMERLEIHPEYNRLRDAGELGRVLMPYGGETWLATSW...   \n",
       "3  MQTNSKIYIAGHKGTAGTALVENLQKRGFNNLVLKTRQELDLVNQQ...   \n",
       "4  MPRFVVQEHHARRLHWDLRLEMDNVLKSWALPKGVPEKRGVKRLAI...   \n",
       "\n",
       "                                      SF_seq_context  \n",
       "0  RIPREEMLQMQDIVLNEVKKLDPEYIATVCGSFRRGAESSGDMDVL...  \n",
       "1  DEYPLHMAAANDDIQLIKHILSQKTLIDARDETGSTALMVATRANN...  \n",
       "2  KPLHDISYAYLGDARNNMGNSLLLIGAKLGMDVRIAAPKALWPHDE...  \n",
       "3  CPSGWSSYEGHCYKPFNEPKNWADAERFCKLQPKHSHLVSFQSAEE...  \n",
       "4  APRKFFVGGNWKMNGDKKSLGELIHTLNGAKLSADTEVVCGAPSIY...  "
      ]
     },
     "execution_count": 6,
     "metadata": {},
     "output_type": "execute_result"
    }
   ],
   "source": [
    "data.head()"
   ]
  },
  {
   "cell_type": "code",
   "execution_count": 7,
   "id": "9a468c5a-e683-4571-87bb-ff29b2b2068e",
   "metadata": {},
   "outputs": [
    {
     "data": {
      "text/plain": [
       "remote_homologs\n",
       "True     69648\n",
       "False    69648\n",
       "Name: count, dtype: int64"
      ]
     },
     "execution_count": 7,
     "metadata": {},
     "output_type": "execute_result"
    }
   ],
   "source": [
    "data.remote_homologs.value_counts()"
   ]
  },
  {
   "cell_type": "code",
   "execution_count": 10,
   "id": "39897a38-502e-4510-985f-cac3dbce7782",
   "metadata": {},
   "outputs": [
    {
     "data": {
      "text/html": [
       "<div>\n",
       "<style scoped>\n",
       "    .dataframe tbody tr th:only-of-type {\n",
       "        vertical-align: middle;\n",
       "    }\n",
       "\n",
       "    .dataframe tbody tr th {\n",
       "        vertical-align: top;\n",
       "    }\n",
       "\n",
       "    .dataframe thead th {\n",
       "        text-align: right;\n",
       "    }\n",
       "</style>\n",
       "<table border=\"1\" class=\"dataframe\">\n",
       "  <thead>\n",
       "    <tr style=\"text-align: right;\">\n",
       "      <th></th>\n",
       "      <th>pair_id</th>\n",
       "      <th>uid_query</th>\n",
       "      <th>FA-DOMID_query</th>\n",
       "      <th>FA-PDBID_query</th>\n",
       "      <th>SF-DOMID_query</th>\n",
       "      <th>SF-PDBID_query</th>\n",
       "      <th>SF_query</th>\n",
       "      <th>FA_query</th>\n",
       "      <th>uid_context</th>\n",
       "      <th>FA-DOMID_context</th>\n",
       "      <th>FA-PDBID_context</th>\n",
       "      <th>SF-DOMID_context</th>\n",
       "      <th>SF-PDBID_context</th>\n",
       "      <th>SF_context</th>\n",
       "      <th>FA_context</th>\n",
       "      <th>remote_homologs</th>\n",
       "      <th>FA_seq_query</th>\n",
       "      <th>FA_seq_context</th>\n",
       "      <th>SF_seq_query</th>\n",
       "      <th>SF_seq_context</th>\n",
       "    </tr>\n",
       "  </thead>\n",
       "  <tbody>\n",
       "    <tr>\n",
       "      <th>20375</th>\n",
       "      <td>117190</td>\n",
       "      <td>10891</td>\n",
       "      <td>8029339</td>\n",
       "      <td>2G72</td>\n",
       "      <td>8041718</td>\n",
       "      <td>2G72</td>\n",
       "      <td>3000118</td>\n",
       "      <td>4003307</td>\n",
       "      <td>10824</td>\n",
       "      <td>8022132</td>\n",
       "      <td>2IH2</td>\n",
       "      <td>8034512</td>\n",
       "      <td>2IH2</td>\n",
       "      <td>3000118</td>\n",
       "      <td>4003613</td>\n",
       "      <td>True</td>\n",
       "      <td>PGQAAVASAYQRFEPRAYLRNNYAPPRGDLCNPNGVGPWKLRCLAQ...</td>\n",
       "      <td>VETPPEVVDFMVSLAEAPRGGRVLEPACAHGPFLRAFREAHGTAYR...</td>\n",
       "      <td>PGQAAVASAYQRFEPRAYLRNNYAPPRGDLCNPNGVGPWKLRCLAQ...</td>\n",
       "      <td>VETPPEVVDFMVSLAEAPRGGRVLEPACAHGPFLRAFREAHGTAYR...</td>\n",
       "    </tr>\n",
       "    <tr>\n",
       "      <th>109589</th>\n",
       "      <td>95396</td>\n",
       "      <td>17887</td>\n",
       "      <td>8065753</td>\n",
       "      <td>5CG0</td>\n",
       "      <td>8065754</td>\n",
       "      <td>5CG0</td>\n",
       "      <td>3000313</td>\n",
       "      <td>4003184</td>\n",
       "      <td>18082</td>\n",
       "      <td>8098077</td>\n",
       "      <td>6SAV</td>\n",
       "      <td>8098078</td>\n",
       "      <td>6SAV</td>\n",
       "      <td>3000313</td>\n",
       "      <td>4003138</td>\n",
       "      <td>True</td>\n",
       "      <td>RRFPDDFLFGTATASYQIEGAWDEDGKGENIWDYMVHNTPEVIRDL...</td>\n",
       "      <td>ATSDDWKSKAIYQLLTDRFGRADDSTSNCSNLSNYCGGTYEGITKH...</td>\n",
       "      <td>RRFPDDFLFGTATASYQIEGAWDEDGKGENIWDYMVHNTPEVIRDL...</td>\n",
       "      <td>ATSDDWKSKAIYQLLTDRFGRADDSTSNCSNLSNYCGGTYEGITKH...</td>\n",
       "    </tr>\n",
       "    <tr>\n",
       "      <th>63009</th>\n",
       "      <td>82529</td>\n",
       "      <td>24458</td>\n",
       "      <td>8031938</td>\n",
       "      <td>1D2M</td>\n",
       "      <td>8044316</td>\n",
       "      <td>1D2M</td>\n",
       "      <td>3002019</td>\n",
       "      <td>4000282</td>\n",
       "      <td>24462</td>\n",
       "      <td>8031943</td>\n",
       "      <td>1HEI</td>\n",
       "      <td>8044321</td>\n",
       "      <td>1HEI</td>\n",
       "      <td>3002019</td>\n",
       "      <td>4000400</td>\n",
       "      <td>True</td>\n",
       "      <td>TFRYRGPSPKGDQPKAIAGLVEALRDGERFVTLLGATGTGKTVTMA...</td>\n",
       "      <td>NSSPPAVPQSFQVAHLHAPTGSGKSTKVPAAYAAKGYKVLVLNPSV...</td>\n",
       "      <td>TFRYRGPSPKGDQPKAIAGLVEALRDGERFVTLLGATGTGKTVTMA...</td>\n",
       "      <td>NSSPPAVPQSFQVAHLHAPTGSGKSTKVPAAYAAKGYKVLVLNPSV...</td>\n",
       "    </tr>\n",
       "    <tr>\n",
       "      <th>19907</th>\n",
       "      <td>11538</td>\n",
       "      <td>18619</td>\n",
       "      <td>8020264</td>\n",
       "      <td>1VQO</td>\n",
       "      <td>8032644</td>\n",
       "      <td>1VQO</td>\n",
       "      <td>3000334</td>\n",
       "      <td>4001752</td>\n",
       "      <td>18689</td>\n",
       "      <td>8082420</td>\n",
       "      <td>5MYJ</td>\n",
       "      <td>8082421</td>\n",
       "      <td>5MYJ</td>\n",
       "      <td>3000334</td>\n",
       "      <td>4001761</td>\n",
       "      <td>True</td>\n",
       "      <td>PSSNGPLEGTRGKLKNKPRDRGTSPPQRAVEEFDDGEKVHLKIDPS...</td>\n",
       "      <td>MNLIESINAAQLRTDIPDFRPGDTVRVHAKVVEGTRERIQIFEGVV...</td>\n",
       "      <td>PSSNGPLEGTRGKLKNKPRDRGTSPPQRAVEEFDDGEKVHLKIDPS...</td>\n",
       "      <td>MNLIESINAAQLRTDIPDFRPGDTVRVHAKVVEGTRERIQIFEGVV...</td>\n",
       "    </tr>\n",
       "    <tr>\n",
       "      <th>58108</th>\n",
       "      <td>114779</td>\n",
       "      <td>12668</td>\n",
       "      <td>8103209</td>\n",
       "      <td>7NHN</td>\n",
       "      <td>8103210</td>\n",
       "      <td>7NHN</td>\n",
       "      <td>3000135</td>\n",
       "      <td>4001909</td>\n",
       "      <td>12415</td>\n",
       "      <td>8029350</td>\n",
       "      <td>1UE1</td>\n",
       "      <td>8041729</td>\n",
       "      <td>1UE1</td>\n",
       "      <td>3000135</td>\n",
       "      <td>4000346</td>\n",
       "      <td>True</td>\n",
       "      <td>RNQRKVYTGRVVSDKMDKTITVVVETYKKHGLYGKRVKYSKKFKAH...</td>\n",
       "      <td>GDTTITIVGNLTADPELRFTPSGAAVANFTVASTPRIYDRQTGEWK...</td>\n",
       "      <td>RNQRKVYTGRVVSDKMDKTITVVVETYKKHGLYGKRVKYSKKFKAH...</td>\n",
       "      <td>GDTTITIVGNLTADPELRFTPSGAAVANFTVASTPRIYDRQTGEWK...</td>\n",
       "    </tr>\n",
       "    <tr>\n",
       "      <th>79882</th>\n",
       "      <td>37705</td>\n",
       "      <td>3258</td>\n",
       "      <td>8070987</td>\n",
       "      <td>2DMT</td>\n",
       "      <td>8070988</td>\n",
       "      <td>2DMT</td>\n",
       "      <td>3000001</td>\n",
       "      <td>4000291</td>\n",
       "      <td>3109</td>\n",
       "      <td>8002271</td>\n",
       "      <td>1ETO</td>\n",
       "      <td>8002272</td>\n",
       "      <td>1ETO</td>\n",
       "      <td>3000001</td>\n",
       "      <td>4000189</td>\n",
       "      <td>True</td>\n",
       "      <td>GEPGTKAKKGRRSRTVFTELQLMGLEKRFEKQKYLSTPDRIDLAES...</td>\n",
       "      <td>NDLYELVLAEVEQPLLDMVMQYTRGNQTRAALMMGINRGTLRKKLK...</td>\n",
       "      <td>GEPGTKAKKGRRSRTVFTELQLMGLEKRFEKQKYLSTPDRIDLAES...</td>\n",
       "      <td>NDLYELVLAEVEQPLLDMVMQYTRGNQTRAALMMGINRGTLRKKLK...</td>\n",
       "    </tr>\n",
       "    <tr>\n",
       "      <th>128906</th>\n",
       "      <td>51889</td>\n",
       "      <td>5763</td>\n",
       "      <td>8087300</td>\n",
       "      <td>5Y1D</td>\n",
       "      <td>8087301</td>\n",
       "      <td>5Y1D</td>\n",
       "      <td>3000038</td>\n",
       "      <td>4000088</td>\n",
       "      <td>5615</td>\n",
       "      <td>8066945</td>\n",
       "      <td>5U2W</td>\n",
       "      <td>8066946</td>\n",
       "      <td>5U2W</td>\n",
       "      <td>3000038</td>\n",
       "      <td>4000029</td>\n",
       "      <td>True</td>\n",
       "      <td>MILVTGALGQIGTELVLALQEKYGNDKIIASDLKEPENYHCKFEKC...</td>\n",
       "      <td>NRLQGKRALVTGGSRGIGAAIAKRLAADGADVAITYEKSAERAQAV...</td>\n",
       "      <td>MILVTGALGQIGTELVLALQEKYGNDKIIASDLKEPENYHCKFEKC...</td>\n",
       "      <td>NRLQGKRALVTGGSRGIGAAIAKRLAADGADVAITYEKSAERAQAV...</td>\n",
       "    </tr>\n",
       "    <tr>\n",
       "      <th>13053</th>\n",
       "      <td>27941</td>\n",
       "      <td>7683</td>\n",
       "      <td>8107519</td>\n",
       "      <td>7Q0F</td>\n",
       "      <td>8107520</td>\n",
       "      <td>7Q0F</td>\n",
       "      <td>3000068</td>\n",
       "      <td>4003647</td>\n",
       "      <td>7526</td>\n",
       "      <td>8027258</td>\n",
       "      <td>2D8Y</td>\n",
       "      <td>8039637</td>\n",
       "      <td>2D8Y</td>\n",
       "      <td>3000068</td>\n",
       "      <td>4003634</td>\n",
       "      <td>True</td>\n",
       "      <td>AHENVWFSHPRNFGKGSRQCRHCSSHSGLIRKYGLDLCRQCFREKA...</td>\n",
       "      <td>RCSYCNNKLSLGTYASLHGRIYCKPHFNQLFKSKGNYDEGFG</td>\n",
       "      <td>AHENVWFSHPRNFGKGSRQCRHCSSHSGLIRKYGLDLCRQCFREKA...</td>\n",
       "      <td>RCSYCNNKLSLGTYASLHGRIYCKPHFNQLFKSKGNYDEGFG</td>\n",
       "    </tr>\n",
       "    <tr>\n",
       "      <th>14876</th>\n",
       "      <td>119731</td>\n",
       "      <td>32305</td>\n",
       "      <td>8027633</td>\n",
       "      <td>1T62</td>\n",
       "      <td>8040012</td>\n",
       "      <td>1T62</td>\n",
       "      <td>3001015</td>\n",
       "      <td>4001910</td>\n",
       "      <td>32319</td>\n",
       "      <td>8060288</td>\n",
       "      <td>5J3E</td>\n",
       "      <td>8060289</td>\n",
       "      <td>5J3E</td>\n",
       "      <td>3001015</td>\n",
       "      <td>4002214</td>\n",
       "      <td>True</td>\n",
       "      <td>MLKNVEVFWQNFLDKHELDMLMPDVWMFGDGSSEMGNRLGQLVVSG...</td>\n",
       "      <td>SSHWLMKSEPESRLEKGVDVKFSIEDLKAQPKQTTCWDGVRNYQAR...</td>\n",
       "      <td>MLKNVEVFWQNFLDKHELDMLMPDVWMFGDGSSEMGNRLGQLVVSG...</td>\n",
       "      <td>SSHWLMKSEPESRLEKGVDVKFSIEDLKAQPKQTTCWDGVRNYQAR...</td>\n",
       "    </tr>\n",
       "    <tr>\n",
       "      <th>61002</th>\n",
       "      <td>95565</td>\n",
       "      <td>10551</td>\n",
       "      <td>8076478</td>\n",
       "      <td>3D23</td>\n",
       "      <td>8076479</td>\n",
       "      <td>3D23</td>\n",
       "      <td>3000114</td>\n",
       "      <td>4002259</td>\n",
       "      <td>10453</td>\n",
       "      <td>8029749</td>\n",
       "      <td>2CGA</td>\n",
       "      <td>8042128</td>\n",
       "      <td>2CGA</td>\n",
       "      <td>3000114</td>\n",
       "      <td>4000286</td>\n",
       "      <td>True</td>\n",
       "      <td>SGIVKMVSPTSKIEPCIVSVTYGSMTLNGLWLDDKVYCPRHVICSS...</td>\n",
       "      <td>CGVPAIQPVLSGLSRIVNGEEAVPGSWPWQVSLQDKTGFHFCGGSL...</td>\n",
       "      <td>SGIVKMVSPTSKIEPCIVSVTYGSMTLNGLWLDDKVYCPRHVICSS...</td>\n",
       "      <td>CGVPAIQPVLSGLSRIVNGEEAVPGSWPWQVSLQDKTGFHFCGGSL...</td>\n",
       "    </tr>\n",
       "  </tbody>\n",
       "</table>\n",
       "</div>"
      ],
      "text/plain": [
       "        pair_id  uid_query  FA-DOMID_query FA-PDBID_query  SF-DOMID_query  \\\n",
       "20375    117190      10891         8029339           2G72         8041718   \n",
       "109589    95396      17887         8065753           5CG0         8065754   \n",
       "63009     82529      24458         8031938           1D2M         8044316   \n",
       "19907     11538      18619         8020264           1VQO         8032644   \n",
       "58108    114779      12668         8103209           7NHN         8103210   \n",
       "79882     37705       3258         8070987           2DMT         8070988   \n",
       "128906    51889       5763         8087300           5Y1D         8087301   \n",
       "13053     27941       7683         8107519           7Q0F         8107520   \n",
       "14876    119731      32305         8027633           1T62         8040012   \n",
       "61002     95565      10551         8076478           3D23         8076479   \n",
       "\n",
       "       SF-PDBID_query  SF_query  FA_query  uid_context  FA-DOMID_context  \\\n",
       "20375            2G72   3000118   4003307        10824           8022132   \n",
       "109589           5CG0   3000313   4003184        18082           8098077   \n",
       "63009            1D2M   3002019   4000282        24462           8031943   \n",
       "19907            1VQO   3000334   4001752        18689           8082420   \n",
       "58108            7NHN   3000135   4001909        12415           8029350   \n",
       "79882            2DMT   3000001   4000291         3109           8002271   \n",
       "128906           5Y1D   3000038   4000088         5615           8066945   \n",
       "13053            7Q0F   3000068   4003647         7526           8027258   \n",
       "14876            1T62   3001015   4001910        32319           8060288   \n",
       "61002            3D23   3000114   4002259        10453           8029749   \n",
       "\n",
       "       FA-PDBID_context  SF-DOMID_context SF-PDBID_context  SF_context  \\\n",
       "20375              2IH2           8034512             2IH2     3000118   \n",
       "109589             6SAV           8098078             6SAV     3000313   \n",
       "63009              1HEI           8044321             1HEI     3002019   \n",
       "19907              5MYJ           8082421             5MYJ     3000334   \n",
       "58108              1UE1           8041729             1UE1     3000135   \n",
       "79882              1ETO           8002272             1ETO     3000001   \n",
       "128906             5U2W           8066946             5U2W     3000038   \n",
       "13053              2D8Y           8039637             2D8Y     3000068   \n",
       "14876              5J3E           8060289             5J3E     3001015   \n",
       "61002              2CGA           8042128             2CGA     3000114   \n",
       "\n",
       "        FA_context  remote_homologs  \\\n",
       "20375      4003613             True   \n",
       "109589     4003138             True   \n",
       "63009      4000400             True   \n",
       "19907      4001761             True   \n",
       "58108      4000346             True   \n",
       "79882      4000189             True   \n",
       "128906     4000029             True   \n",
       "13053      4003634             True   \n",
       "14876      4002214             True   \n",
       "61002      4000286             True   \n",
       "\n",
       "                                             FA_seq_query  \\\n",
       "20375   PGQAAVASAYQRFEPRAYLRNNYAPPRGDLCNPNGVGPWKLRCLAQ...   \n",
       "109589  RRFPDDFLFGTATASYQIEGAWDEDGKGENIWDYMVHNTPEVIRDL...   \n",
       "63009   TFRYRGPSPKGDQPKAIAGLVEALRDGERFVTLLGATGTGKTVTMA...   \n",
       "19907   PSSNGPLEGTRGKLKNKPRDRGTSPPQRAVEEFDDGEKVHLKIDPS...   \n",
       "58108   RNQRKVYTGRVVSDKMDKTITVVVETYKKHGLYGKRVKYSKKFKAH...   \n",
       "79882   GEPGTKAKKGRRSRTVFTELQLMGLEKRFEKQKYLSTPDRIDLAES...   \n",
       "128906  MILVTGALGQIGTELVLALQEKYGNDKIIASDLKEPENYHCKFEKC...   \n",
       "13053   AHENVWFSHPRNFGKGSRQCRHCSSHSGLIRKYGLDLCRQCFREKA...   \n",
       "14876   MLKNVEVFWQNFLDKHELDMLMPDVWMFGDGSSEMGNRLGQLVVSG...   \n",
       "61002   SGIVKMVSPTSKIEPCIVSVTYGSMTLNGLWLDDKVYCPRHVICSS...   \n",
       "\n",
       "                                           FA_seq_context  \\\n",
       "20375   VETPPEVVDFMVSLAEAPRGGRVLEPACAHGPFLRAFREAHGTAYR...   \n",
       "109589  ATSDDWKSKAIYQLLTDRFGRADDSTSNCSNLSNYCGGTYEGITKH...   \n",
       "63009   NSSPPAVPQSFQVAHLHAPTGSGKSTKVPAAYAAKGYKVLVLNPSV...   \n",
       "19907   MNLIESINAAQLRTDIPDFRPGDTVRVHAKVVEGTRERIQIFEGVV...   \n",
       "58108   GDTTITIVGNLTADPELRFTPSGAAVANFTVASTPRIYDRQTGEWK...   \n",
       "79882   NDLYELVLAEVEQPLLDMVMQYTRGNQTRAALMMGINRGTLRKKLK...   \n",
       "128906  NRLQGKRALVTGGSRGIGAAIAKRLAADGADVAITYEKSAERAQAV...   \n",
       "13053          RCSYCNNKLSLGTYASLHGRIYCKPHFNQLFKSKGNYDEGFG   \n",
       "14876   SSHWLMKSEPESRLEKGVDVKFSIEDLKAQPKQTTCWDGVRNYQAR...   \n",
       "61002   CGVPAIQPVLSGLSRIVNGEEAVPGSWPWQVSLQDKTGFHFCGGSL...   \n",
       "\n",
       "                                             SF_seq_query  \\\n",
       "20375   PGQAAVASAYQRFEPRAYLRNNYAPPRGDLCNPNGVGPWKLRCLAQ...   \n",
       "109589  RRFPDDFLFGTATASYQIEGAWDEDGKGENIWDYMVHNTPEVIRDL...   \n",
       "63009   TFRYRGPSPKGDQPKAIAGLVEALRDGERFVTLLGATGTGKTVTMA...   \n",
       "19907   PSSNGPLEGTRGKLKNKPRDRGTSPPQRAVEEFDDGEKVHLKIDPS...   \n",
       "58108   RNQRKVYTGRVVSDKMDKTITVVVETYKKHGLYGKRVKYSKKFKAH...   \n",
       "79882   GEPGTKAKKGRRSRTVFTELQLMGLEKRFEKQKYLSTPDRIDLAES...   \n",
       "128906  MILVTGALGQIGTELVLALQEKYGNDKIIASDLKEPENYHCKFEKC...   \n",
       "13053   AHENVWFSHPRNFGKGSRQCRHCSSHSGLIRKYGLDLCRQCFREKA...   \n",
       "14876   MLKNVEVFWQNFLDKHELDMLMPDVWMFGDGSSEMGNRLGQLVVSG...   \n",
       "61002   SGIVKMVSPTSKIEPCIVSVTYGSMTLNGLWLDDKVYCPRHVICSS...   \n",
       "\n",
       "                                           SF_seq_context  \n",
       "20375   VETPPEVVDFMVSLAEAPRGGRVLEPACAHGPFLRAFREAHGTAYR...  \n",
       "109589  ATSDDWKSKAIYQLLTDRFGRADDSTSNCSNLSNYCGGTYEGITKH...  \n",
       "63009   NSSPPAVPQSFQVAHLHAPTGSGKSTKVPAAYAAKGYKVLVLNPSV...  \n",
       "19907   MNLIESINAAQLRTDIPDFRPGDTVRVHAKVVEGTRERIQIFEGVV...  \n",
       "58108   GDTTITIVGNLTADPELRFTPSGAAVANFTVASTPRIYDRQTGEWK...  \n",
       "79882   NDLYELVLAEVEQPLLDMVMQYTRGNQTRAALMMGINRGTLRKKLK...  \n",
       "128906  NRLQGKRALVTGGSRGIGAAIAKRLAADGADVAITYEKSAERAQAV...  \n",
       "13053          RCSYCNNKLSLGTYASLHGRIYCKPHFNQLFKSKGNYDEGFG  \n",
       "14876   SSHWLMKSEPESRLEKGVDVKFSIEDLKAQPKQTTCWDGVRNYQAR...  \n",
       "61002   CGVPAIQPVLSGLSRIVNGEEAVPGSWPWQVSLQDKTGFHFCGGSL...  "
      ]
     },
     "execution_count": 10,
     "metadata": {},
     "output_type": "execute_result"
    }
   ],
   "source": [
    "data[data.remote_homologs == True].sample(10)"
   ]
  },
  {
   "cell_type": "code",
   "execution_count": 11,
   "id": "06434395-2c4a-4ff7-87a3-b6ce93e5098a",
   "metadata": {},
   "outputs": [],
   "source": [
    "import jsonlines, json"
   ]
  },
  {
   "cell_type": "code",
   "execution_count": 12,
   "id": "29bb6abc-bef8-472f-a213-36793690e257",
   "metadata": {},
   "outputs": [],
   "source": [
    "from sklearn.model_selection import train_test_split"
   ]
  },
  {
   "cell_type": "code",
   "execution_count": 14,
   "id": "0141cd20-96d9-4a72-9144-8020cad5cf6b",
   "metadata": {},
   "outputs": [],
   "source": [
    "train, test = train_test_split(data, train_size=.8, stratify=data[['remote_homologs']])"
   ]
  },
  {
   "cell_type": "code",
   "execution_count": 15,
   "id": "812a6b84-c8eb-4079-9e10-3f13b34c562c",
   "metadata": {},
   "outputs": [
    {
     "data": {
      "text/plain": [
       "((111436, 20), (27860, 20))"
      ]
     },
     "execution_count": 15,
     "metadata": {},
     "output_type": "execute_result"
    }
   ],
   "source": [
    "train.shape, test.shape"
   ]
  },
  {
   "cell_type": "code",
   "execution_count": 18,
   "id": "ea2a2990-5ac6-44fe-958c-4101cd6963b3",
   "metadata": {},
   "outputs": [
    {
     "data": {
      "text/plain": [
       "remote_homologs\n",
       "False    13930\n",
       "True     13930\n",
       "Name: count, dtype: int64"
      ]
     },
     "execution_count": 18,
     "metadata": {},
     "output_type": "execute_result"
    }
   ],
   "source": [
    "test.remote_homologs.value_counts()"
   ]
  },
  {
   "cell_type": "code",
   "execution_count": 21,
   "id": "a0a13755-fb29-47f2-93ff-b90fc685f22f",
   "metadata": {},
   "outputs": [],
   "source": [
    "with jsonlines.open(\"scop/scop_train_dataset.json\", 'w') as w:\n",
    "    for idx, row in train.iterrows():\n",
    "        record = {\n",
    "            'fa_query': row['FA_seq_query'],\n",
    "            'fa_context': row['FA_seq_context'],\n",
    "            'sf_query': row['SF_seq_query'],\n",
    "            'sf_context': row['SF_seq_context'],\n",
    "            'output': row['remote_homologs']\n",
    "        }\n",
    "        w.write(record)"
   ]
  },
  {
   "cell_type": "code",
   "execution_count": 22,
   "id": "c861f108-7030-45ea-8388-a20686d53893",
   "metadata": {},
   "outputs": [],
   "source": [
    "with jsonlines.open(\"scop/scop_test_dataset.json\", 'w') as w:\n",
    "    for idx, row in test.iterrows():\n",
    "        record = {\n",
    "            'fa_query': row['FA_seq_query'],\n",
    "            'fa_context': row['FA_seq_context'],\n",
    "            'sf_query': row['SF_seq_query'],\n",
    "            'sf_context': row['SF_seq_context'],\n",
    "            'output': row['remote_homologs']\n",
    "        }\n",
    "        w.write(record)"
   ]
  },
  {
   "cell_type": "code",
   "execution_count": 32,
   "id": "3a503b53-7f49-4f4b-b69a-7a60ff354794",
   "metadata": {},
   "outputs": [],
   "source": [
    "test_ = jsonlines.open(\"scop/scop_test_dataset.json\", 'r').iter()"
   ]
  },
  {
   "cell_type": "code",
   "execution_count": null,
   "id": "52dc45a7-bd08-4219-9046-3149c7e84e01",
   "metadata": {},
   "outputs": [],
   "source": []
  }
 ],
 "metadata": {
  "kernelspec": {
   "display_name": "Python 3 (ipykernel)",
   "language": "python",
   "name": "python3"
  },
  "language_info": {
   "codemirror_mode": {
    "name": "ipython",
    "version": 3
   },
   "file_extension": ".py",
   "mimetype": "text/x-python",
   "name": "python",
   "nbconvert_exporter": "python",
   "pygments_lexer": "ipython3",
   "version": "3.11.7"
  }
 },
 "nbformat": 4,
 "nbformat_minor": 5
}
