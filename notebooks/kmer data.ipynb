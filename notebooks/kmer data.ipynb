{
 "cells": [
  {
   "cell_type": "code",
   "execution_count": 1,
   "id": "e3237516-4734-4070-b47c-dd5515f53f1e",
   "metadata": {},
   "outputs": [],
   "source": [
    "from kmer import kmer_featurization"
   ]
  },
  {
   "cell_type": "code",
   "execution_count": 2,
   "id": "42e451b2-c151-48ae-949d-8062e2501be0",
   "metadata": {},
   "outputs": [],
   "source": [
    "import json, jsonlines"
   ]
  },
  {
   "cell_type": "code",
   "execution_count": 3,
   "id": "c635548d-0403-412c-98f4-0f89ec12c97e",
   "metadata": {},
   "outputs": [],
   "source": [
    "k = 6\n",
    "featurizer = kmer_featurization(5)"
   ]
  },
  {
   "cell_type": "code",
   "execution_count": 5,
   "id": "1e4a6b62-07e5-4eae-b6a8-bae0504cdf91",
   "metadata": {},
   "outputs": [],
   "source": [
    "with open(\"my_data_fixed.jsonl\", 'r') as r, jsonlines.open('my_data_fixed_2.jsonl','w')as w:\n",
    "  for line in r:\n",
    "    record = json.loads(line)\n",
    "    \n",
    "    seq = record['context'].split(\" \")\n",
    "    kmer_feature = featurizer.obtain_kmer_feature_for_a_list_of_sequences(seq)\n",
    "    \n",
    "    record['question'] = record['question'].strip()\n",
    "    record['context'] = kmer_feature\n",
    "    record['answer'] = record['answer'].strip()\n",
    "    w.write(record)\n",
    "    # break"
   ]
  },
  {
   "cell_type": "code",
   "execution_count": null,
   "id": "910b2b45-e225-4e5b-a2f1-3ff8679059ba",
   "metadata": {},
   "outputs": [],
   "source": []
  }
 ],
 "metadata": {
  "kernelspec": {
   "display_name": "Python 3 (ipykernel)",
   "language": "python",
   "name": "python3"
  },
  "language_info": {
   "codemirror_mode": {
    "name": "ipython",
    "version": 3
   },
   "file_extension": ".py",
   "mimetype": "text/x-python",
   "name": "python",
   "nbconvert_exporter": "python",
   "pygments_lexer": "ipython3",
   "version": "3.11.7"
  }
 },
 "nbformat": 4,
 "nbformat_minor": 5
}
